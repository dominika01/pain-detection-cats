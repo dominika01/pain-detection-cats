{
  "nbformat": 4,
  "nbformat_minor": 0,
  "metadata": {
    "colab": {
      "provenance": []
    },
    "kernelspec": {
      "name": "python3",
      "display_name": "Python 3"
    },
    "language_info": {
      "name": "python"
    },
    "gpuClass": "premium",
    "accelerator": "GPU"
  },
  "cells": [
    {
      "cell_type": "code",
      "source": [
        "!unzip muzzle.zip"
      ],
      "metadata": {
        "colab": {
          "base_uri": "https://localhost:8080/"
        },
        "id": "2RLuOZiW5tdt",
        "outputId": "ce9438a5-eb59-460a-847e-3ef382b544e2"
      },
      "execution_count": null,
      "outputs": [
        {
          "output_type": "stream",
          "name": "stdout",
          "text": [
            "Archive:  muzzle.zip\n",
            "replace muzzle-augmented/aug368.jpg? [y]es, [n]o, [A]ll, [N]one, [r]ename: "
          ]
        }
      ]
    },
    {
      "cell_type": "code",
      "source": [
        "import cv2\n",
        "import numpy as np\n",
        "import os\n",
        "import pandas as pd\n",
        "import tensorflow as tf\n",
        "from sklearn import model_selection\n",
        "from keras.callbacks import EarlyStopping\n",
        "import matplotlib.pyplot as plt\n",
        "import seaborn as sns\n",
        "from sklearn.metrics import confusion_matrix, accuracy_score, classification_report"
      ],
      "metadata": {
        "id": "pORqWVNfpDXX"
      },
      "execution_count": null,
      "outputs": []
    },
    {
      "cell_type": "code",
      "source": [
        "# global variables\n",
        "\n",
        "INPUT_SHAPE_X = 128\n",
        "INPUT_SHAPE_Y = 64\n",
        "ITERATION = '6'\n",
        "EPOCHS = 1000\n",
        "BATCH_SIZE = 20\n",
        "\n",
        "max_images = 1530 # max images per class"
      ],
      "metadata": {
        "id": "jmKkoA9xpDaE"
      },
      "execution_count": null,
      "outputs": []
    },
    {
      "cell_type": "code",
      "source": [
        "# load labels\n",
        "csv_path = 'labels_preprocessed.csv'\n",
        "labels = pd.read_csv(csv_path)\n",
        "# replace NaN values with 0s\n",
        "labels.fillna(0, inplace=True)"
      ],
      "metadata": {
        "id": "A7Ih3AUlpSr1"
      },
      "execution_count": null,
      "outputs": []
    },
    {
      "cell_type": "code",
      "source": [
        "# load the images\n",
        "muzzle_path = 'muzzle'\n",
        "muzzle_dir = os.listdir(muzzle_path)\n",
        "x_muzzle = []\n",
        "y_muzzle = []\n",
        "i = 0\n",
        "class_0 = 0\n",
        "class_1 = 0\n",
        "class_2 = 0\n",
        "\n",
        "# iterate over images\n",
        "for image in muzzle_dir:\n",
        "    # load the image\n",
        "    image_path = os.path.join(muzzle_path, image)\n",
        "    img = tf.keras.preprocessing.image.load_img(image_path, target_size=(INPUT_SHAPE_X, INPUT_SHAPE_Y))\n",
        "    img = tf.keras.preprocessing.image.img_to_array(img)\n",
        "    \n",
        "    # preprocess the image\n",
        "    if (img is not None):\n",
        "    \n",
        "        # check image class\n",
        "        image_class = labels.loc[labels['imageid'] == image, 'muzzle_tension']\n",
        "\n",
        "        if not image_class.empty:\n",
        "            image_class = image_class.iloc[0]    \n",
        "            \n",
        "            # append an equal number of images from each class\n",
        "            if (image_class == 0.0 and class_0 < max_images-100):\n",
        "                x_muzzle.append(img)\n",
        "                y_muzzle.append(image_class)\n",
        "                class_0 += 1\n",
        "                if (i == max_images*3):\n",
        "                    break\n",
        "                i+=1\n",
        "                \n",
        "                \n",
        "            elif (image_class == 1.0 and class_1 < max_images):\n",
        "                x_muzzle.append(img)\n",
        "                y_muzzle.append(image_class)\n",
        "                class_1 += 1\n",
        "                if (i == max_images*3):\n",
        "                    break\n",
        "                i+=1\n",
        "                \n",
        "                \n",
        "            elif (image_class == 2.0 and class_2 < max_images):\n",
        "                x_muzzle.append(img)\n",
        "                y_muzzle.append(image_class)\n",
        "                class_2 += 1\n",
        "                if (i == max_images*3):\n",
        "                    break\n",
        "                i+=1\n",
        "  \n"
      ],
      "metadata": {
        "id": "LYMx2EFXpp4s"
      },
      "execution_count": null,
      "outputs": []
    },
    {
      "cell_type": "code",
      "source": [
        "# add flipped images from class 2\n",
        "flipped_path = 'muzzle-flipped'\n",
        "for image in os.listdir(flipped_path):\n",
        "    image_path = os.path.join(flipped_path, image)\n",
        "    img = tf.keras.preprocessing.image.load_img(image_path, target_size=(INPUT_SHAPE_X, INPUT_SHAPE_Y))\n",
        "    img = tf.keras.preprocessing.image.img_to_array(img)\n",
        "    x_muzzle.append(img)\n",
        "    y_muzzle.append(2)\n",
        "    class_2 += 1"
      ],
      "metadata": {
        "id": "fR1mEp1kZnBo"
      },
      "execution_count": null,
      "outputs": []
    },
    {
      "cell_type": "code",
      "source": [
        "# add augmented images from class 2\n",
        "aug_path = 'muzzle-augmented'\n",
        "for image in os.listdir(aug_path):\n",
        "    image_path = os.path.join(aug_path, image)\n",
        "    img = tf.keras.preprocessing.image.load_img(image_path, target_size=(INPUT_SHAPE_X, INPUT_SHAPE_Y))\n",
        "    img = tf.keras.preprocessing.image.img_to_array(img)\n",
        "    x_muzzle.append(img)\n",
        "    y_muzzle.append(2)\n",
        "    class_2 += 1"
      ],
      "metadata": {
        "id": "t7yZtk90ZvYV"
      },
      "execution_count": null,
      "outputs": []
    },
    {
      "cell_type": "code",
      "source": [
        "print(class_0, class_1, class_2)"
      ],
      "metadata": {
        "colab": {
          "base_uri": "https://localhost:8080/"
        },
        "id": "-Z1bHTP0aHm1",
        "outputId": "d3523e39-dd40-4c21-8b4e-1a7ecc296343"
      },
      "execution_count": null,
      "outputs": [
        {
          "output_type": "stream",
          "name": "stdout",
          "text": [
            "1430 1530 1530\n"
          ]
        }
      ]
    },
    {
      "cell_type": "code",
      "source": [
        "# preprocess\n",
        "x_muzzle = tf.keras.applications.vgg16.preprocess_input(np.array(x_muzzle))\n",
        "\n",
        "# split the dataset into train and test sets\n",
        "x_train_val, x_test, y_train_val, y_test = model_selection.train_test_split(\n",
        "    x_muzzle, y_muzzle, test_size=0.2, random_state=42)\n",
        "\n",
        "# split the train and validation sets\n",
        "x_train, x_val, y_train, y_val = model_selection.train_test_split(\n",
        "    x_train_val, y_train_val, test_size=0.2, random_state=42)\n",
        "\n",
        "# one-hot code labels\n",
        "y_train = tf.cast(y_train,dtype=tf.int32)\n",
        "y_val = tf.cast(y_val,dtype=tf.int32)\n",
        "y_test = tf.cast(y_test,dtype=tf.int32)\n",
        "\n",
        "y_train = tf.one_hot(y_train,3)\n",
        "y_val = tf.one_hot(y_val,3)\n",
        "y_test = tf.one_hot(y_test,3)"
      ],
      "metadata": {
        "id": "lpC6P1xspxid"
      },
      "execution_count": null,
      "outputs": []
    },
    {
      "cell_type": "code",
      "source": [
        "# create the model\n",
        "model = tf.keras.models.Sequential()\n",
        "model.add(tf.keras.applications.vgg16.VGG16(weights='vgg16_weights_tf_dim_ordering_tf_kernels_notop.h5', \n",
        "                                            include_top=False,\n",
        "                                            input_shape=(INPUT_SHAPE_X, INPUT_SHAPE_Y, 3)))\n",
        "model.add(tf.keras.layers.Flatten(input_shape=model.output_shape[1:]))\n",
        "model.add(tf.keras.layers.Dense(512, activation='relu'))\n",
        "model.add(tf.keras.layers.Dropout(0.4))\n",
        "model.add(tf.keras.layers.Dense(256, activation='relu'))\n",
        "model.add(tf.keras.layers.Dropout(0.2))\n",
        "#model.add(tf.keras.layers.Dense(128, activation='relu'))\n",
        "model.add(tf.keras.layers.Dense(3, activation='softmax'))"
      ],
      "metadata": {
        "id": "2PERmuI_qBCe"
      },
      "execution_count": null,
      "outputs": []
    },
    {
      "cell_type": "code",
      "source": [
        "# compile the model\n",
        "earlystop = EarlyStopping(monitor='val_loss', patience=5)\n",
        "model.compile(optimizer=tf.keras.optimizers.SGD(learning_rate=1e-3), \n",
        "              loss='categorical_crossentropy', \n",
        "              metrics=['accuracy'])"
      ],
      "metadata": {
        "id": "AbkIzniwqF8-"
      },
      "execution_count": null,
      "outputs": []
    },
    {
      "cell_type": "code",
      "source": [
        "model.summary()"
      ],
      "metadata": {
        "colab": {
          "base_uri": "https://localhost:8080/"
        },
        "id": "C2SQPbZ85CN8",
        "outputId": "e51e23ac-69d4-4bab-ce65-cf5fd6ed08d1"
      },
      "execution_count": null,
      "outputs": [
        {
          "output_type": "stream",
          "name": "stdout",
          "text": [
            "Model: \"sequential_17\"\n",
            "_________________________________________________________________\n",
            " Layer (type)                Output Shape              Param #   \n",
            "=================================================================\n",
            " vgg16 (Functional)          (None, 4, 2, 512)         14714688  \n",
            "                                                                 \n",
            " flatten_17 (Flatten)        (None, 4096)              0         \n",
            "                                                                 \n",
            " dense_72 (Dense)            (None, 512)               2097664   \n",
            "                                                                 \n",
            " dropout_36 (Dropout)        (None, 512)               0         \n",
            "                                                                 \n",
            " dense_73 (Dense)            (None, 256)               131328    \n",
            "                                                                 \n",
            " dropout_37 (Dropout)        (None, 256)               0         \n",
            "                                                                 \n",
            " dense_74 (Dense)            (None, 128)               32896     \n",
            "                                                                 \n",
            " dense_75 (Dense)            (None, 3)                 387       \n",
            "                                                                 \n",
            "=================================================================\n",
            "Total params: 16,976,963\n",
            "Trainable params: 16,976,963\n",
            "Non-trainable params: 0\n",
            "_________________________________________________________________\n"
          ]
        }
      ]
    },
    {
      "cell_type": "code",
      "source": [
        "# train the model\n",
        "hist = model.fit(x_train, y_train, \n",
        "              epochs=EPOCHS,\n",
        "              batch_size=BATCH_SIZE, \n",
        "              validation_data=(x_val, y_val),\n",
        "              callbacks=[earlystop])"
      ],
      "metadata": {
        "colab": {
          "base_uri": "https://localhost:8080/"
        },
        "id": "nAJFsk5hqF_E",
        "outputId": "f30d9d60-6a67-42c6-c6bb-b3db10b96348"
      },
      "execution_count": null,
      "outputs": [
        {
          "output_type": "stream",
          "name": "stdout",
          "text": [
            "Epoch 1/1000\n",
            "144/144 [==============================] - 4s 14ms/step - loss: 1.2724 - accuracy: 0.3916 - val_loss: 1.0627 - val_accuracy: 0.3964\n",
            "Epoch 2/1000\n",
            "144/144 [==============================] - 2s 12ms/step - loss: 1.0434 - accuracy: 0.4114 - val_loss: 1.0182 - val_accuracy: 0.4312\n",
            "Epoch 3/1000\n",
            "144/144 [==============================] - 2s 12ms/step - loss: 1.0232 - accuracy: 0.4389 - val_loss: 1.0076 - val_accuracy: 0.4506\n",
            "Epoch 4/1000\n",
            "144/144 [==============================] - 2s 12ms/step - loss: 1.0133 - accuracy: 0.4260 - val_loss: 1.0144 - val_accuracy: 0.4339\n",
            "Epoch 5/1000\n",
            "144/144 [==============================] - 2s 12ms/step - loss: 0.9993 - accuracy: 0.4553 - val_loss: 1.0123 - val_accuracy: 0.4047\n",
            "Epoch 6/1000\n",
            "144/144 [==============================] - 2s 12ms/step - loss: 0.9875 - accuracy: 0.4469 - val_loss: 1.0243 - val_accuracy: 0.4214\n",
            "Epoch 7/1000\n",
            "144/144 [==============================] - 2s 12ms/step - loss: 0.9698 - accuracy: 0.4758 - val_loss: 0.9994 - val_accuracy: 0.4284\n",
            "Epoch 8/1000\n",
            "144/144 [==============================] - 2s 12ms/step - loss: 0.9691 - accuracy: 0.4751 - val_loss: 0.9958 - val_accuracy: 0.4437\n",
            "Epoch 9/1000\n",
            "144/144 [==============================] - 2s 12ms/step - loss: 0.9553 - accuracy: 0.4789 - val_loss: 1.0489 - val_accuracy: 0.4576\n",
            "Epoch 10/1000\n",
            "144/144 [==============================] - 2s 12ms/step - loss: 0.9448 - accuracy: 0.4988 - val_loss: 1.0152 - val_accuracy: 0.4492\n",
            "Epoch 11/1000\n",
            "144/144 [==============================] - 2s 12ms/step - loss: 0.9287 - accuracy: 0.5110 - val_loss: 0.9791 - val_accuracy: 0.4687\n",
            "Epoch 12/1000\n",
            "144/144 [==============================] - 2s 12ms/step - loss: 0.9198 - accuracy: 0.5231 - val_loss: 1.0157 - val_accuracy: 0.4659\n",
            "Epoch 13/1000\n",
            "144/144 [==============================] - 2s 12ms/step - loss: 0.9108 - accuracy: 0.5193 - val_loss: 0.9885 - val_accuracy: 0.4631\n",
            "Epoch 14/1000\n",
            "144/144 [==============================] - 2s 12ms/step - loss: 0.8825 - accuracy: 0.5531 - val_loss: 1.1258 - val_accuracy: 0.4506\n",
            "Epoch 15/1000\n",
            "144/144 [==============================] - 2s 12ms/step - loss: 0.8714 - accuracy: 0.5580 - val_loss: 1.1356 - val_accuracy: 0.4492\n",
            "Epoch 16/1000\n",
            "144/144 [==============================] - 2s 12ms/step - loss: 0.8523 - accuracy: 0.5750 - val_loss: 1.0077 - val_accuracy: 0.4771\n"
          ]
        }
      ]
    },
    {
      "cell_type": "code",
      "source": [
        "# save the model and training history\n",
        "path = 'model_' + ITERATION\n",
        "model.save(path)\n",
        "\n",
        "history_df = pd.DataFrame(hist.history)\n",
        "path = 'muzzle_history_' + ITERATION +'.csv'\n",
        "history_df.to_csv(path, index=False)"
      ],
      "metadata": {
        "colab": {
          "base_uri": "https://localhost:8080/"
        },
        "id": "DZxKC7fXqVMz",
        "outputId": "640b434f-fe7e-43e2-ba6d-89d60be1e575"
      },
      "execution_count": null,
      "outputs": [
        {
          "output_type": "stream",
          "name": "stderr",
          "text": [
            "WARNING:absl:Found untraced functions such as _jit_compiled_convolution_op, _jit_compiled_convolution_op, _jit_compiled_convolution_op, _jit_compiled_convolution_op, _jit_compiled_convolution_op while saving (showing 5 of 13). These functions will not be directly callable after loading.\n"
          ]
        }
      ]
    },
    {
      "cell_type": "code",
      "source": [
        "# evaluate the model\n",
        "results = model.evaluate(x_test, y_test)\n",
        "print(results)"
      ],
      "metadata": {
        "colab": {
          "base_uri": "https://localhost:8080/"
        },
        "id": "wR_v3x2dqGBW",
        "outputId": "39ae7f2e-e237-495a-86d9-54649f4e1756"
      },
      "execution_count": null,
      "outputs": [
        {
          "output_type": "stream",
          "name": "stdout",
          "text": [
            "29/29 [==============================] - 0s 8ms/step - loss: 1.5940 - accuracy: 0.5122\n",
            "[1.5939580202102661, 0.5122494697570801]\n"
          ]
        }
      ]
    },
    {
      "cell_type": "code",
      "source": [
        "# make predictions\n",
        "prob_array = model.predict(x_test)\n",
        "class_indices = np.argmax(prob_array, axis=1)\n",
        "\n",
        "# convert the class indices to a one-hot encoded array\n",
        "class_indices = np.argmax(prob_array, axis=1)\n",
        "num_classes = 3\n",
        "y_pred = np.zeros((prob_array.shape[0], num_classes))\n",
        "y_pred[np.arange(prob_array.shape[0]), class_indices] = 1"
      ],
      "metadata": {
        "colab": {
          "base_uri": "https://localhost:8080/"
        },
        "id": "X8VgBTyDqOAH",
        "outputId": "0211c8a8-5360-403f-d422-c750f509d9f8"
      },
      "execution_count": null,
      "outputs": [
        {
          "output_type": "stream",
          "name": "stdout",
          "text": [
            "29/29 [==============================] - 0s 6ms/step\n"
          ]
        }
      ]
    },
    {
      "cell_type": "code",
      "source": [
        "# make a classification report\n",
        "\n",
        "print('\\nAccuracy: {:.2f}\\n'.format(accuracy_score(y_test, y_pred)))\n",
        "print('\\nClassification Report\\n')\n",
        "print(classification_report(y_test, y_pred, target_names=['Score 0', 'Score 1', 'Score 2']))"
      ],
      "metadata": {
        "colab": {
          "base_uri": "https://localhost:8080/"
        },
        "id": "ypYlr3Swq9Rn",
        "outputId": "71fbeecc-add8-4333-aa23-d6f35393fa21"
      },
      "execution_count": null,
      "outputs": [
        {
          "output_type": "stream",
          "name": "stdout",
          "text": [
            "\n",
            "Accuracy: 0.51\n",
            "\n",
            "\n",
            "Classification Report\n",
            "\n",
            "              precision    recall  f1-score   support\n",
            "\n",
            "     Score 0       0.48      0.51      0.49       287\n",
            "     Score 1       0.44      0.53      0.48       316\n",
            "     Score 2       0.71      0.49      0.58       295\n",
            "\n",
            "   micro avg       0.51      0.51      0.51       898\n",
            "   macro avg       0.54      0.51      0.52       898\n",
            "weighted avg       0.54      0.51      0.52       898\n",
            " samples avg       0.51      0.51      0.51       898\n",
            "\n"
          ]
        }
      ]
    },
    {
      "cell_type": "code",
      "source": [
        "# make a confusion matrix\n",
        "confusion = confusion_matrix(np.asarray(y_test).argmax(axis=1), np.asarray(y_pred).argmax(axis=1))\n",
        "print('Confusion Matrix\\n')\n",
        "print(confusion)\n",
        "\n",
        "lables = ['0','1','2']    \n",
        "ax= plt.subplot()\n",
        "sns.heatmap(confusion, annot=True, fmt='g', ax=ax);\n",
        "\n",
        "# labels, title and ticks\n",
        "ax.set_xlabel('Predicted labels');ax.set_ylabel('True labels'); \n",
        "ax.set_title('Confusion Matrix'); \n",
        "ax.xaxis.set_ticklabels(lables); ax.yaxis.set_ticklabels(lables);\n",
        "plt.show()"
      ],
      "metadata": {
        "colab": {
          "base_uri": "https://localhost:8080/",
          "height": 557
        },
        "id": "xbTmQZWerAa7",
        "outputId": "c3f2155a-c374-4ddc-b11d-da10c57d46b4"
      },
      "execution_count": null,
      "outputs": [
        {
          "output_type": "stream",
          "name": "stdout",
          "text": [
            "Confusion Matrix\n",
            "\n",
            "[[147 124  16]\n",
            " [104 169  43]\n",
            " [ 56  95 144]]\n"
          ]
        },
        {
          "output_type": "display_data",
          "data": {
            "text/plain": [
              "<Figure size 640x480 with 2 Axes>"
            ],
            "image/png": "[encoded data removed]"
          },
          "metadata": {}
        }
      ]
    },
    {
      "cell_type": "code",
      "source": [
        "!zip model_5.zip model_5"
      ],
      "metadata": {
        "colab": {
          "base_uri": "https://localhost:8080/"
        },
        "id": "pewcJ0LagMpV",
        "outputId": "04ae6457-8610-47c8-c7d4-ef3dedb51ee0"
      },
      "execution_count": null,
      "outputs": [
        {
          "output_type": "stream",
          "name": "stdout",
          "text": [
            "updating: model_5/ (stored 0%)\n"
          ]
        }
      ]
    }
  ]
}