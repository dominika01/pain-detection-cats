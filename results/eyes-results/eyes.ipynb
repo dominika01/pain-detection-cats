{
  "nbformat": 4,
  "nbformat_minor": 0,
  "metadata": {
    "colab": {
      "provenance": [],
      "machine_shape": "hm"
    },
    "kernelspec": {
      "name": "python3",
      "display_name": "Python 3"
    },
    "language_info": {
      "name": "python"
    },
    "gpuClass": "premium",
    "accelerator": "GPU"
  },
  "cells": [
    {
      "cell_type": "code",
      "source": [
        "import cv2\n",
        "import numpy as np\n",
        "import os\n",
        "import pandas as pd\n",
        "import tensorflow as tf\n",
        "from sklearn import model_selection\n",
        "from keras.callbacks import EarlyStopping\n",
        "import matplotlib.pyplot as plt\n",
        "import seaborn as sns\n",
        "from sklearn.metrics import confusion_matrix, accuracy_score, classification_report"
      ],
      "metadata": {
        "id": "pORqWVNfpDXX"
      },
      "execution_count": null,
      "outputs": []
    },
    {
      "cell_type": "code",
      "source": [
        "# global variables\n",
        "\n",
        "INPUT_SHAPE_X = 128\n",
        "INPUT_SHAPE_Y = 64\n",
        "ITERATION = '6'\n",
        "EPOCHS = 1000\n",
        "BATCH_SIZE = 8\n",
        "\n",
        "max_images = 2800 #2054 # max images per class"
      ],
      "metadata": {
        "id": "jmKkoA9xpDaE"
      },
      "execution_count": 109,
      "outputs": []
    },
    {
      "cell_type": "code",
      "source": [
        "# load labels\n",
        "csv_path = 'labels_preprocessed.csv'\n",
        "labels = pd.read_csv(csv_path)\n",
        "# replace NaN values with 0s\n",
        "labels.fillna(0, inplace=True)"
      ],
      "metadata": {
        "id": "A7Ih3AUlpSr1"
      },
      "execution_count": 38,
      "outputs": []
    },
    {
      "cell_type": "code",
      "source": [
        "# load the images\n",
        "eyes_path = 'eyes'\n",
        "eyes_dir = os.listdir(eyes_path)\n",
        "x_eyes = []\n",
        "y_eyes = []\n",
        "i = 0\n",
        "class_0 = 0\n",
        "class_1 = 0\n",
        "class_2 = 0\n",
        "\n",
        "# iterate over images\n",
        "for image in eyes_dir:\n",
        "    # load the image\n",
        "    image_path = os.path.join(eyes_path, image)\n",
        "    img = tf.keras.preprocessing.image.load_img(image_path, target_size=(INPUT_SHAPE_X, INPUT_SHAPE_Y))\n",
        "    img = tf.keras.preprocessing.image.img_to_array(img)\n",
        "    \n",
        "    # preprocess the image\n",
        "    if (img is not None):\n",
        "    \n",
        "        # check image class\n",
        "        image_class = labels.loc[labels['imageid'] == image, 'orbital_tightening']\n",
        "\n",
        "        if not image_class.empty:\n",
        "            image_class = image_class.iloc[0]    \n",
        "            \n",
        "            # append an equal number of images from each class\n",
        "            if (image_class == 0.0 and class_0 < max_images):\n",
        "                x_eyes.append(img)\n",
        "                y_eyes.append(image_class)\n",
        "                class_0 += 1\n",
        "                if (i == max_images*3):\n",
        "                    break\n",
        "                i+=1\n",
        "                \n",
        "                \n",
        "            elif (image_class == 1.0 and class_1 < max_images-200):\n",
        "                x_eyes.append(img)\n",
        "                y_eyes.append(image_class)\n",
        "                class_1 += 1\n",
        "                if (i == max_images*3):\n",
        "                    break\n",
        "                i+=1\n",
        "                \n",
        "                \n",
        "            elif (image_class == 2.0 and class_2 < max_images):\n",
        "                x_eyes.append(img)\n",
        "                y_eyes.append(image_class)\n",
        "                class_2 += 1\n",
        "                if (i == max_images*3):\n",
        "                    break\n",
        "                i+=1\n",
        "  \n"
      ],
      "metadata": {
        "id": "LYMx2EFXpp4s"
      },
      "execution_count": 72,
      "outputs": []
    },
    {
      "cell_type": "code",
      "source": [
        "# add flipped images from class 2\n",
        "flipped_path = 'eyes-flipped'\n",
        "for image in os.listdir(flipped_path):\n",
        "    image_path = os.path.join(flipped_path, image)\n",
        "    img = tf.keras.preprocessing.image.load_img(image_path, target_size=(INPUT_SHAPE_X, INPUT_SHAPE_Y))\n",
        "    img = tf.keras.preprocessing.image.img_to_array(img)\n",
        "    x_eyes.append(img)\n",
        "    y_eyes.append(2)\n",
        "    class_2 += 1"
      ],
      "metadata": {
        "id": "fR1mEp1kZnBo"
      },
      "execution_count": 73,
      "outputs": []
    },
    {
      "cell_type": "code",
      "source": [
        "# add augmented images from class 2\n",
        "aug_path = 'eyes-augmented'\n",
        "for image in os.listdir(aug_path):\n",
        "    image_path = os.path.join(aug_path, image)\n",
        "    img = tf.keras.preprocessing.image.load_img(image_path, target_size=(INPUT_SHAPE_X, INPUT_SHAPE_Y))\n",
        "    img = tf.keras.preprocessing.image.img_to_array(img)\n",
        "    x_eyes.append(img)\n",
        "    y_eyes.append(2)\n",
        "    class_2 += 1"
      ],
      "metadata": {
        "id": "t7yZtk90ZvYV"
      },
      "execution_count": 74,
      "outputs": []
    },
    {
      "cell_type": "code",
      "source": [
        "print(class_0, class_1, class_2)"
      ],
      "metadata": {
        "colab": {
          "base_uri": "https://localhost:8080/"
        },
        "id": "-Z1bHTP0aHm1",
        "outputId": "8a195ad9-e8cb-42a2-ab4c-6a0aaa47c3a0"
      },
      "execution_count": 75,
      "outputs": [
        {
          "output_type": "stream",
          "name": "stdout",
          "text": [
            "2800 2600 2040\n"
          ]
        }
      ]
    },
    {
      "cell_type": "code",
      "source": [
        "# preprocess\n",
        "x_eyes = tf.keras.applications.vgg16.preprocess_input(np.array(x_eyes))\n",
        "\n",
        "# split the dataset into train and test sets\n",
        "x_train_val, x_test, y_train_val, y_test = model_selection.train_test_split(\n",
        "    x_eyes, y_eyes, test_size=0.2, random_state=42)\n",
        "\n",
        "# split the train and validation sets\n",
        "x_train, x_val, y_train, y_val = model_selection.train_test_split(\n",
        "    x_train_val, y_train_val, test_size=0.2, random_state=42)\n",
        "\n",
        "# one-hot code labels\n",
        "y_train = tf.one_hot(y_train,3)\n",
        "y_val = tf.one_hot(y_val,3)\n",
        "y_test = tf.one_hot(y_test,3)"
      ],
      "metadata": {
        "id": "lpC6P1xspxid"
      },
      "execution_count": 76,
      "outputs": []
    },
    {
      "cell_type": "code",
      "source": [
        "# create the model\n",
        "model = tf.keras.models.Sequential()\n",
        "model.add(tf.keras.applications.vgg16.VGG16(weights='vgg16_weights_tf_dim_ordering_tf_kernels_notop.h5', \n",
        "                                            include_top=False,\n",
        "                                            input_shape=(INPUT_SHAPE_X, INPUT_SHAPE_Y, 3)))\n",
        "model.add(tf.keras.layers.Flatten(input_shape=model.output_shape[1:]))\n",
        "model.add(tf.keras.layers.Dense(256, activation='relu'))\n",
        "model.add(tf.keras.layers.Dropout(0.2))\n",
        "model.add(tf.keras.layers.Dense(256, activation='relu'))\n",
        "model.add(tf.keras.layers.Dropout(0.4))\n",
        "model.add(tf.keras.layers.Dense(128, activation='relu'))\n",
        "model.add(tf.keras.layers.Dense(3, activation='softmax'))"
      ],
      "metadata": {
        "id": "2PERmuI_qBCe"
      },
      "execution_count": 92,
      "outputs": []
    },
    {
      "cell_type": "code",
      "source": [
        "# compile the model\n",
        "earlystop = EarlyStopping(monitor='val_loss', patience=10)\n",
        "model.compile(optimizer=tf.keras.optimizers.SGD(learning_rate=1e-3), \n",
        "              loss='categorical_crossentropy', \n",
        "              metrics=['accuracy'])"
      ],
      "metadata": {
        "id": "AbkIzniwqF8-"
      },
      "execution_count": 110,
      "outputs": []
    },
    {
      "cell_type": "code",
      "source": [
        "model.summary()"
      ],
      "metadata": {
        "colab": {
          "base_uri": "https://localhost:8080/"
        },
        "id": "C2SQPbZ85CN8",
        "outputId": "79713a0e-ece1-419c-81ba-e765c6866b19"
      },
      "execution_count": 94,
      "outputs": [
        {
          "output_type": "stream",
          "name": "stdout",
          "text": [
            "Model: \"sequential_5\"\n",
            "_________________________________________________________________\n",
            " Layer (type)                Output Shape              Param #   \n",
            "=================================================================\n",
            " vgg16 (Functional)          (None, 4, 2, 512)         14714688  \n",
            "                                                                 \n",
            " flatten_5 (Flatten)         (None, 4096)              0         \n",
            "                                                                 \n",
            " dense_18 (Dense)            (None, 256)               1048832   \n",
            "                                                                 \n",
            " dropout_8 (Dropout)         (None, 256)               0         \n",
            "                                                                 \n",
            " dense_19 (Dense)            (None, 256)               65792     \n",
            "                                                                 \n",
            " dropout_9 (Dropout)         (None, 256)               0         \n",
            "                                                                 \n",
            " dense_20 (Dense)            (None, 128)               32896     \n",
            "                                                                 \n",
            " dense_21 (Dense)            (None, 3)                 387       \n",
            "                                                                 \n",
            "=================================================================\n",
            "Total params: 15,862,595\n",
            "Trainable params: 15,862,595\n",
            "Non-trainable params: 0\n",
            "_________________________________________________________________\n"
          ]
        }
      ]
    },
    {
      "cell_type": "code",
      "source": [
        "# train the model\n",
        "hist = model.fit(x_train, y_train, \n",
        "              epochs=EPOCHS,\n",
        "              batch_size=BATCH_SIZE, \n",
        "              validation_data=(x_val, y_val),\n",
        "              callbacks=[earlystop])"
      ],
      "metadata": {
        "colab": {
          "base_uri": "https://localhost:8080/"
        },
        "id": "nAJFsk5hqF_E",
        "outputId": "38371562-34cc-4339-b4f4-e615b4066537"
      },
      "execution_count": 111,
      "outputs": [
        {
          "output_type": "stream",
          "name": "stdout",
          "text": [
            "Epoch 1/1000\n",
            "596/596 [==============================] - 10s 12ms/step - loss: 0.2728 - accuracy: 0.8925 - val_loss: 0.9844 - val_accuracy: 0.6910\n",
            "Epoch 2/1000\n",
            "596/596 [==============================] - 7s 12ms/step - loss: 0.2138 - accuracy: 0.9200 - val_loss: 1.3919 - val_accuracy: 0.6448\n",
            "Epoch 3/1000\n",
            "596/596 [==============================] - 7s 11ms/step - loss: 0.1982 - accuracy: 0.9330 - val_loss: 1.0088 - val_accuracy: 0.7019\n",
            "Epoch 4/1000\n",
            "596/596 [==============================] - 7s 11ms/step - loss: 0.1381 - accuracy: 0.9532 - val_loss: 1.1158 - val_accuracy: 0.6877\n",
            "Epoch 5/1000\n",
            "596/596 [==============================] - 8s 13ms/step - loss: 0.0964 - accuracy: 0.9670 - val_loss: 1.5440 - val_accuracy: 0.6465\n",
            "Epoch 6/1000\n",
            "596/596 [==============================] - 7s 12ms/step - loss: 0.1134 - accuracy: 0.9620 - val_loss: 1.1721 - val_accuracy: 0.6868\n",
            "Epoch 7/1000\n",
            "596/596 [==============================] - 7s 12ms/step - loss: 0.0723 - accuracy: 0.9767 - val_loss: 1.2666 - val_accuracy: 0.6633\n",
            "Epoch 8/1000\n",
            "596/596 [==============================] - 7s 12ms/step - loss: 0.0437 - accuracy: 0.9853 - val_loss: 1.4053 - val_accuracy: 0.6826\n",
            "Epoch 9/1000\n",
            "596/596 [==============================] - 7s 12ms/step - loss: 0.0648 - accuracy: 0.9767 - val_loss: 1.4399 - val_accuracy: 0.7011\n",
            "Epoch 10/1000\n",
            "596/596 [==============================] - 7s 12ms/step - loss: 0.0635 - accuracy: 0.9824 - val_loss: 1.2540 - val_accuracy: 0.6734\n",
            "Epoch 11/1000\n",
            "596/596 [==============================] - 7s 12ms/step - loss: 0.0561 - accuracy: 0.9828 - val_loss: 1.4786 - val_accuracy: 0.6877\n"
          ]
        }
      ]
    },
    {
      "cell_type": "code",
      "source": [
        "# save the model and training history\n",
        "path = 'model_' + ITERATION\n",
        "model.save(path)\n",
        "\n",
        "history_df = pd.DataFrame(hist.history)\n",
        "path = 'eyes_history_' + ITERATION +'.csv'\n",
        "history_df.to_csv(path, index=False)"
      ],
      "metadata": {
        "colab": {
          "base_uri": "https://localhost:8080/"
        },
        "id": "DZxKC7fXqVMz",
        "outputId": "5b80a435-7879-44f4-8d8a-e31770b9bcdc"
      },
      "execution_count": 116,
      "outputs": [
        {
          "output_type": "stream",
          "name": "stderr",
          "text": [
            "WARNING:absl:Found untraced functions such as _jit_compiled_convolution_op, _jit_compiled_convolution_op, _jit_compiled_convolution_op, _jit_compiled_convolution_op, _jit_compiled_convolution_op while saving (showing 5 of 13). These functions will not be directly callable after loading.\n"
          ]
        }
      ]
    },
    {
      "cell_type": "code",
      "source": [
        "# evaluate the model\n",
        "results = model.evaluate(x_test, y_test)\n",
        "print(results)"
      ],
      "metadata": {
        "colab": {
          "base_uri": "https://localhost:8080/"
        },
        "id": "wR_v3x2dqGBW",
        "outputId": "867d1f33-d85d-4d89-ed21-5f11b507dee8"
      },
      "execution_count": 112,
      "outputs": [
        {
          "output_type": "stream",
          "name": "stdout",
          "text": [
            "47/47 [==============================] - 0s 7ms/step - loss: 1.3995 - accuracy: 0.7003\n",
            "[1.3994545936584473, 0.7002688050270081]\n"
          ]
        }
      ]
    },
    {
      "cell_type": "code",
      "source": [
        "# make predictions\n",
        "prob_array = model.predict(x_test)\n",
        "class_indices = np.argmax(prob_array, axis=1)\n",
        "\n",
        "# convert the class indices to a one-hot encoded array\n",
        "class_indices = np.argmax(prob_array, axis=1)\n",
        "num_classes = 3\n",
        "y_pred = np.zeros((prob_array.shape[0], num_classes))\n",
        "y_pred[np.arange(prob_array.shape[0]), class_indices] = 1"
      ],
      "metadata": {
        "colab": {
          "base_uri": "https://localhost:8080/"
        },
        "id": "X8VgBTyDqOAH",
        "outputId": "ded20dd0-f003-4a61-ae4e-09a30c769f0f"
      },
      "execution_count": 113,
      "outputs": [
        {
          "output_type": "stream",
          "name": "stdout",
          "text": [
            "47/47 [==============================] - 0s 6ms/step\n"
          ]
        }
      ]
    },
    {
      "cell_type": "code",
      "source": [
        "# make a classification report\n",
        "\n",
        "print('\\nAccuracy: {:.2f}\\n'.format(accuracy_score(y_test, y_pred)))\n",
        "print('\\nClassification Report\\n')\n",
        "print(classification_report(y_test, y_pred, target_names=['Score 0', 'Score 1', 'Score 2']))"
      ],
      "metadata": {
        "colab": {
          "base_uri": "https://localhost:8080/"
        },
        "id": "ypYlr3Swq9Rn",
        "outputId": "67853e62-981e-40d3-e19b-c7a2a69ecc39"
      },
      "execution_count": 114,
      "outputs": [
        {
          "output_type": "stream",
          "name": "stdout",
          "text": [
            "\n",
            "Accuracy: 0.70\n",
            "\n",
            "\n",
            "Classification Report\n",
            "\n",
            "              precision    recall  f1-score   support\n",
            "\n",
            "     Score 0       0.70      0.71      0.71       589\n",
            "     Score 1       0.61      0.56      0.58       508\n",
            "     Score 2       0.80      0.86      0.83       391\n",
            "\n",
            "   micro avg       0.70      0.70      0.70      1488\n",
            "   macro avg       0.70      0.71      0.71      1488\n",
            "weighted avg       0.70      0.70      0.70      1488\n",
            " samples avg       0.70      0.70      0.70      1488\n",
            "\n"
          ]
        }
      ]
    },
    {
      "cell_type": "code",
      "source": [
        "# make a confusion matrix\n",
        "confusion = confusion_matrix(np.asarray(y_test).argmax(axis=1), np.asarray(y_pred).argmax(axis=1))\n",
        "print('Confusion Matrix\\n')\n",
        "print(confusion)\n",
        "\n",
        "lables = ['0','1','2']    \n",
        "ax= plt.subplot()\n",
        "sns.heatmap(confusion, annot=True, fmt='g', ax=ax);\n",
        "\n",
        "# labels, title and ticks\n",
        "ax.set_xlabel('Predicted labels');ax.set_ylabel('True labels'); \n",
        "ax.set_title('Confusion Matrix'); \n",
        "ax.xaxis.set_ticklabels(lables); ax.yaxis.set_ticklabels(lables);\n",
        "plt.show()"
      ],
      "metadata": {
        "colab": {
          "base_uri": "https://localhost:8080/",
          "height": 557
        },
        "id": "xbTmQZWerAa7",
        "outputId": "b3ff4c7c-f85a-4d8d-ecc8-9acd822ff958"
      },
      "execution_count": 115,
      "outputs": [
        {
          "output_type": "stream",
          "name": "stdout",
          "text": [
            "Confusion Matrix\n",
            "\n",
            "[[421 146  22]\n",
            " [164 284  60]\n",
            " [ 18  36 337]]\n"
          ]
        },
        {
          "output_type": "display_data",
          "data": {
            "text/plain": [
              "<Figure size 640x480 with 2 Axes>"
            ],
            "image/png": "[encoded data removed]"
          },
          "metadata": {}
        }
      ]
    },
    {
      "cell_type": "code",
      "source": [
        "!zip model_6.zip model_6"
      ],
      "metadata": {
        "colab": {
          "base_uri": "https://localhost:8080/"
        },
        "id": "pewcJ0LagMpV",
        "outputId": "5143f5db-b390-41e3-d5d3-9de3631f8953"
      },
      "execution_count": 117,
      "outputs": [
        {
          "output_type": "stream",
          "name": "stdout",
          "text": [
            "  adding: model_6/ (stored 0%)\n"
          ]
        }
      ]
    }
  ]
}