{
  "cells": [
    {
      "cell_type": "code",
      "source": [
        "!unzip ears.zip"
      ],
      "metadata": {
        "id": "TMeT9JzK4A-M"
      },
      "execution_count": null,
      "outputs": []
    },
    {
      "cell_type": "code",
      "execution_count": 2,
      "metadata": {
        "id": "pORqWVNfpDXX"
      },
      "outputs": [],
      "source": [
        "import cv2\n",
        "import numpy as np\n",
        "import os\n",
        "import pandas as pd\n",
        "import tensorflow as tf\n",
        "from sklearn import model_selection\n",
        "from keras.callbacks import EarlyStopping\n",
        "import matplotlib.pyplot as plt\n",
        "import seaborn as sns\n",
        "from sklearn.metrics import confusion_matrix, accuracy_score, classification_report"
      ]
    },
    {
      "cell_type": "code",
      "execution_count": 49,
      "metadata": {
        "id": "jmKkoA9xpDaE"
      },
      "outputs": [],
      "source": [
        "# global variables\n",
        "\n",
        "INPUT_SHAPE_X = 128\n",
        "INPUT_SHAPE_Y = 64\n",
        "ITERATION = '4'\n",
        "EPOCHS = 1000\n",
        "BATCH_SIZE = 4\n",
        "\n",
        "max_images = 3600 # max images per class"
      ]
    },
    {
      "cell_type": "code",
      "execution_count": 37,
      "metadata": {
        "id": "A7Ih3AUlpSr1"
      },
      "outputs": [],
      "source": [
        "# load labels\n",
        "csv_path = 'labels_preprocessed.csv'\n",
        "labels = pd.read_csv(csv_path)\n",
        "# replace NaN values with 0s\n",
        "labels.fillna(0, inplace=True)"
      ]
    },
    {
      "cell_type": "code",
      "execution_count": null,
      "metadata": {
        "id": "LYMx2EFXpp4s"
      },
      "outputs": [],
      "source": [
        "# load the images\n",
        "ears_path = 'ears'\n",
        "ears_dir = os.listdir(ears_path)\n",
        "x_ears = []\n",
        "y_ears = []\n",
        "i = 0\n",
        "class_0 = 0\n",
        "class_1 = 0\n",
        "class_2 = 0\n",
        "\n",
        "# iterate over images\n",
        "for image in ears_dir:\n",
        "    # load the image\n",
        "    image_path = os.path.join(ears_path, image)\n",
        "    img = tf.keras.preprocessing.image.load_img(image_path, target_size=(INPUT_SHAPE_X, INPUT_SHAPE_Y))\n",
        "    img = tf.keras.preprocessing.image.img_to_array(img)\n",
        "    \n",
        "    # preprocess the image\n",
        "    if (img is not None):\n",
        "    \n",
        "        # check image class\n",
        "        image_class = labels.loc[labels['imageid'] == image, 'ear_position']\n",
        "\n",
        "        if not image_class.empty:\n",
        "            image_class = image_class.iloc[0]    \n",
        "            \n",
        "            # append an equal number of images from each class\n",
        "            if (image_class == 0.0 and class_0 < max_images):\n",
        "                x_ears.append(img)\n",
        "                y_ears.append(image_class)\n",
        "                class_0 += 1\n",
        "                if (i == max_images*3):\n",
        "                    break\n",
        "                i+=1\n",
        "                \n",
        "                \n",
        "            elif (image_class == 1.0 and class_1 < max_images):\n",
        "                x_ears.append(img)\n",
        "                y_ears.append(image_class)\n",
        "                class_1 += 1\n",
        "                if (i == max_images*3):\n",
        "                    break\n",
        "                i+=1\n",
        "                \n",
        "                \n",
        "            elif (image_class == 2.0 and class_2 < max_images):\n",
        "                x_ears.append(img)\n",
        "                y_ears.append(image_class)\n",
        "                class_2 += 1\n",
        "                if (i == max_images*3):\n",
        "                    break\n",
        "                i+=1\n",
        "  \n"
      ]
    },
    {
      "cell_type": "code",
      "execution_count": 39,
      "metadata": {
        "id": "fR1mEp1kZnBo"
      },
      "outputs": [],
      "source": [
        "# add flipped images from class 2\n",
        "flipped_path = 'ears-flipped'\n",
        "for image in os.listdir(flipped_path):\n",
        "    image_path = os.path.join(flipped_path, image)\n",
        "    img = tf.keras.preprocessing.image.load_img(image_path, target_size=(INPUT_SHAPE_X, INPUT_SHAPE_Y))\n",
        "    img = tf.keras.preprocessing.image.img_to_array(img)\n",
        "    x_ears.append(img)\n",
        "    y_ears.append(2)\n",
        "    class_2 += 1"
      ]
    },
    {
      "cell_type": "code",
      "execution_count": 40,
      "metadata": {
        "id": "t7yZtk90ZvYV"
      },
      "outputs": [],
      "source": [
        "# add augmented images from class 2\n",
        "aug_path = 'ears-augmented'\n",
        "for image in os.listdir(aug_path):\n",
        "    image_path = os.path.join(aug_path, image)\n",
        "    img = tf.keras.preprocessing.image.load_img(image_path, target_size=(INPUT_SHAPE_X, INPUT_SHAPE_Y))\n",
        "    img = tf.keras.preprocessing.image.img_to_array(img)\n",
        "    x_ears.append(img)\n",
        "    y_ears.append(2)\n",
        "    class_2 += 1"
      ]
    },
    {
      "cell_type": "code",
      "execution_count": 42,
      "metadata": {
        "colab": {
          "base_uri": "https://localhost:8080/"
        },
        "id": "-Z1bHTP0aHm1",
        "outputId": "6cf93e48-94fc-4471-d7c3-a2cded0f0bc5"
      },
      "outputs": [
        {
          "output_type": "stream",
          "name": "stdout",
          "text": [
            "3800 3160 3041\n"
          ]
        }
      ],
      "source": [
        "print(class_0, class_1, class_2)"
      ]
    },
    {
      "cell_type": "code",
      "execution_count": 43,
      "metadata": {
        "id": "lpC6P1xspxid"
      },
      "outputs": [],
      "source": [
        "# preprocess\n",
        "x_ears = tf.keras.applications.vgg16.preprocess_input(np.array(x_ears))\n",
        "\n",
        "# split the dataset into train and test sets\n",
        "x_train_val, x_test, y_train_val, y_test = model_selection.train_test_split(\n",
        "    x_ears, y_ears, test_size=0.2, random_state=42)\n",
        "\n",
        "# split the train and validation sets\n",
        "x_train, x_val, y_train, y_val = model_selection.train_test_split(\n",
        "    x_train_val, y_train_val, test_size=0.2, random_state=42)\n",
        "\n",
        "# one-hot code labels\n",
        "y_train = tf.cast(y_train,dtype=tf.int32)\n",
        "y_val = tf.cast(y_val,dtype=tf.int32)\n",
        "y_test = tf.cast(y_test,dtype=tf.int32)\n",
        "\n",
        "y_train = tf.one_hot(y_train,3)\n",
        "y_val = tf.one_hot(y_val,3)\n",
        "y_test = tf.one_hot(y_test,3)"
      ]
    },
    {
      "cell_type": "code",
      "execution_count": 44,
      "metadata": {
        "id": "2PERmuI_qBCe"
      },
      "outputs": [],
      "source": [
        "# create the model\n",
        "model = tf.keras.models.Sequential()\n",
        "model.add(tf.keras.applications.vgg16.VGG16(weights='vgg16_weights_tf_dim_ordering_tf_kernels_notop.h5', \n",
        "                                            include_top=False,\n",
        "                                            input_shape=(INPUT_SHAPE_X, INPUT_SHAPE_Y, 3)))\n",
        "model.add(tf.keras.layers.Flatten(input_shape=model.output_shape[1:]))\n",
        "model.add(tf.keras.layers.Dense(256, activation=tf.nn.leaky_relu))\n",
        "model.add(tf.keras.layers.Dropout(0.2))\n",
        "model.add(tf.keras.layers.Dense(256, activation=tf.nn.leaky_relu))\n",
        "model.add(tf.keras.layers.Dropout(0.4))\n",
        "model.add(tf.keras.layers.Dense(128, activation=tf.nn.leaky_relu))\n",
        "model.add(tf.keras.layers.Dense(3, activation='softmax'))"
      ]
    },
    {
      "cell_type": "code",
      "execution_count": 47,
      "metadata": {
        "id": "AbkIzniwqF8-"
      },
      "outputs": [],
      "source": [
        "# compile the model\n",
        "earlystop = EarlyStopping(monitor='val_loss', patience=5)\n",
        "model.compile(optimizer=tf.keras.optimizers.SGD(learning_rate=1e-4), \n",
        "              loss='categorical_crossentropy', \n",
        "              metrics=['accuracy'])"
      ]
    },
    {
      "cell_type": "code",
      "execution_count": 12,
      "metadata": {
        "colab": {
          "base_uri": "https://localhost:8080/"
        },
        "id": "C2SQPbZ85CN8",
        "outputId": "79a6c94a-be4b-4334-e5f1-b1aa2a8f736d"
      },
      "outputs": [
        {
          "output_type": "stream",
          "name": "stdout",
          "text": [
            "Model: \"sequential\"\n",
            "_________________________________________________________________\n",
            " Layer (type)                Output Shape              Param #   \n",
            "=================================================================\n",
            " vgg16 (Functional)          (None, 4, 2, 512)         14714688  \n",
            "                                                                 \n",
            " flatten (Flatten)           (None, 4096)              0         \n",
            "                                                                 \n",
            " dense (Dense)               (None, 256)               1048832   \n",
            "                                                                 \n",
            " dropout (Dropout)           (None, 256)               0         \n",
            "                                                                 \n",
            " dense_1 (Dense)             (None, 256)               65792     \n",
            "                                                                 \n",
            " dropout_1 (Dropout)         (None, 256)               0         \n",
            "                                                                 \n",
            " dense_2 (Dense)             (None, 128)               32896     \n",
            "                                                                 \n",
            " dense_3 (Dense)             (None, 3)                 387       \n",
            "                                                                 \n",
            "=================================================================\n",
            "Total params: 15,862,595\n",
            "Trainable params: 15,862,595\n",
            "Non-trainable params: 0\n",
            "_________________________________________________________________\n"
          ]
        }
      ],
      "source": [
        "model.summary()"
      ]
    },
    {
      "cell_type": "code",
      "execution_count": 48,
      "metadata": {
        "colab": {
          "base_uri": "https://localhost:8080/"
        },
        "id": "nAJFsk5hqF_E",
        "outputId": "4e4f12e2-b10b-4337-de10-bd3566dc8833"
      },
      "outputs": [
        {
          "output_type": "stream",
          "name": "stdout",
          "text": [
            "Epoch 1/1000\n",
            "1600/1600 [==============================] - 46s 28ms/step - loss: nan - accuracy: 0.3802 - val_loss: nan - val_accuracy: 0.3881\n",
            "Epoch 2/1000\n",
            "1600/1600 [==============================] - 45s 28ms/step - loss: nan - accuracy: 0.3802 - val_loss: nan - val_accuracy: 0.3881\n",
            "Epoch 3/1000\n",
            "1600/1600 [==============================] - 45s 28ms/step - loss: nan - accuracy: 0.3802 - val_loss: nan - val_accuracy: 0.3881\n",
            "Epoch 4/1000\n",
            "1600/1600 [==============================] - 46s 29ms/step - loss: nan - accuracy: 0.3802 - val_loss: nan - val_accuracy: 0.3881\n",
            "Epoch 5/1000\n",
            "1600/1600 [==============================] - 46s 29ms/step - loss: nan - accuracy: 0.3802 - val_loss: nan - val_accuracy: 0.3881\n"
          ]
        }
      ],
      "source": [
        "# train the model\n",
        "hist = model.fit(x_train, y_train, \n",
        "              epochs=EPOCHS,\n",
        "              batch_size=BATCH_SIZE, \n",
        "              validation_data=(x_val, y_val),\n",
        "              callbacks=[earlystop])"
      ]
    },
    {
      "cell_type": "code",
      "execution_count": 30,
      "metadata": {
        "colab": {
          "base_uri": "https://localhost:8080/"
        },
        "id": "DZxKC7fXqVMz",
        "outputId": "2a6c3f3b-1ec3-4ab4-88d8-606dbcab7d37"
      },
      "outputs": [
        {
          "output_type": "stream",
          "name": "stderr",
          "text": [
            "WARNING:absl:Found untraced functions such as _jit_compiled_convolution_op, _jit_compiled_convolution_op, _jit_compiled_convolution_op, _jit_compiled_convolution_op, _jit_compiled_convolution_op while saving (showing 5 of 13). These functions will not be directly callable after loading.\n"
          ]
        }
      ],
      "source": [
        "# save the model and training history\n",
        "path = 'model_' + ITERATION\n",
        "model.save(path)\n",
        "\n",
        "history_df = pd.DataFrame(hist.history)\n",
        "path = 'ears_history_' + ITERATION +'.csv'\n",
        "history_df.to_csv(path, index=False)"
      ]
    },
    {
      "cell_type": "code",
      "execution_count": 29,
      "metadata": {
        "colab": {
          "base_uri": "https://localhost:8080/"
        },
        "id": "wR_v3x2dqGBW",
        "outputId": "344fa82c-2727-4b34-d22f-38c341ad2aa3"
      },
      "outputs": [
        {
          "output_type": "stream",
          "name": "stdout",
          "text": [
            "62/62 [==============================] - 2s 34ms/step - loss: 0.9070 - accuracy: 0.5869\n",
            "[0.906967282295227, 0.5869454145431519]\n"
          ]
        }
      ],
      "source": [
        "# evaluate the model\n",
        "results = model.evaluate(x_test, y_test)\n",
        "print(results)"
      ]
    },
    {
      "cell_type": "code",
      "execution_count": 31,
      "metadata": {
        "colab": {
          "base_uri": "https://localhost:8080/"
        },
        "id": "X8VgBTyDqOAH",
        "outputId": "84aaa471-3cbe-4483-c01e-4c66a16986bf"
      },
      "outputs": [
        {
          "output_type": "stream",
          "name": "stdout",
          "text": [
            "62/62 [==============================] - 2s 22ms/step\n"
          ]
        }
      ],
      "source": [
        "# make predictions\n",
        "prob_array = model.predict(x_test)\n",
        "class_indices = np.argmax(prob_array, axis=1)\n",
        "\n",
        "# convert the class indices to a one-hot encoded array\n",
        "class_indices = np.argmax(prob_array, axis=1)\n",
        "num_classes = 3\n",
        "y_pred = np.zeros((prob_array.shape[0], num_classes))\n",
        "y_pred[np.arange(prob_array.shape[0]), class_indices] = 1"
      ]
    },
    {
      "cell_type": "code",
      "execution_count": 33,
      "metadata": {
        "colab": {
          "base_uri": "https://localhost:8080/"
        },
        "id": "ypYlr3Swq9Rn",
        "outputId": "21cd6ed8-8778-4751-f9aa-3089fc633901"
      },
      "outputs": [
        {
          "output_type": "stream",
          "name": "stdout",
          "text": [
            "\n",
            "Accuracy: 0.59\n",
            "\n",
            "\n",
            "Classification Report - ears\n",
            "\n",
            "              precision    recall  f1-score   support\n",
            "\n",
            "     Score 0       0.66      0.68      0.67       723\n",
            "     Score 1       0.45      0.29      0.36       620\n",
            "     Score 2       0.59      0.77      0.67       618\n",
            "\n",
            "   micro avg       0.59      0.59      0.59      1961\n",
            "   macro avg       0.57      0.58      0.56      1961\n",
            "weighted avg       0.57      0.59      0.57      1961\n",
            " samples avg       0.59      0.59      0.59      1961\n",
            "\n"
          ]
        }
      ],
      "source": [
        "# make a classification report\n",
        "\n",
        "print('\\nAccuracy: {:.2f}\\n'.format(accuracy_score(y_test, y_pred)))\n",
        "print('\\nClassification Report - ears\\n')\n",
        "print(classification_report(y_test, y_pred, target_names=['Score 0', 'Score 1', 'Score 2']))"
      ]
    },
    {
      "cell_type": "code",
      "execution_count": 34,
      "metadata": {
        "colab": {
          "base_uri": "https://localhost:8080/",
          "height": 557
        },
        "id": "xbTmQZWerAa7",
        "outputId": "b3bde5a8-e5a6-42e3-bd43-b889081f32a0"
      },
      "outputs": [
        {
          "output_type": "stream",
          "name": "stdout",
          "text": [
            "Confusion Matrix\n",
            "\n",
            "[[495 134  94]\n",
            " [200 182 238]\n",
            " [ 57  87 474]]\n"
          ]
        },
        {
          "output_type": "display_data",
          "data": {
            "text/plain": [
              "<Figure size 640x480 with 2 Axes>"
            ],
            "image/png": "[encoded data removed]"
          },
          "metadata": {}
        }
      ],
      "source": [
        "# make a confusion matrix\n",
        "confusion = confusion_matrix(np.asarray(y_test).argmax(axis=1), np.asarray(y_pred).argmax(axis=1))\n",
        "print('Confusion Matrix\\n')\n",
        "print(confusion)\n",
        "\n",
        "lables = ['0','1','2']    \n",
        "ax= plt.subplot()\n",
        "sns.heatmap(confusion, annot=True, fmt='g', ax=ax);\n",
        "\n",
        "# labels, title and ticks\n",
        "ax.set_xlabel('Predicted labels');ax.set_ylabel('True labels'); \n",
        "ax.set_title('Confusion Matrix - ears'); \n",
        "ax.xaxis.set_ticklabels(lables); ax.yaxis.set_ticklabels(lables);\n",
        "plt.show()"
      ]
    },
    {
      "cell_type": "code",
      "execution_count": 35,
      "metadata": {
        "colab": {
          "base_uri": "https://localhost:8080/"
        },
        "id": "pewcJ0LagMpV",
        "outputId": "a39cb2fc-e3a8-46c7-9189-865cb9e4998c"
      },
      "outputs": [
        {
          "output_type": "stream",
          "name": "stdout",
          "text": [
            "  adding: model_3/ (stored 0%)\n",
            "  adding: model_3/assets/ (stored 0%)\n",
            "  adding: model_3/keras_metadata.pb (deflated 96%)\n",
            "  adding: model_3/fingerprint.pb (stored 0%)\n",
            "  adding: model_3/variables/ (stored 0%)\n",
            "  adding: model_3/variables/variables.data-00000-of-00001 (deflated 22%)\n",
            "  adding: model_3/variables/variables.index (deflated 69%)\n",
            "  adding: model_3/saved_model.pb (deflated 90%)\n"
          ]
        }
      ],
      "source": [
        "!zip -r model_3.zip model_3"
      ]
    }
  ],
  "metadata": {
    "accelerator": "GPU",
    "colab": {
      "provenance": []
    },
    "gpuClass": "premium",
    "kernelspec": {
      "display_name": "Python 3",
      "name": "python3"
    },
    "language_info": {
      "name": "python"
    }
  },
  "nbformat": 4,
  "nbformat_minor": 0
}