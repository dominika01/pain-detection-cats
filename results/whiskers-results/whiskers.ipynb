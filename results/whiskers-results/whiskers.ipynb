{
  "nbformat": 4,
  "nbformat_minor": 0,
  "metadata": {
    "colab": {
      "provenance": [],
      "machine_shape": "hm"
    },
    "kernelspec": {
      "name": "python3",
      "display_name": "Python 3"
    },
    "language_info": {
      "name": "python"
    },
    "gpuClass": "premium",
    "accelerator": "GPU"
  },
  "cells": [
    {
      "cell_type": "code",
      "source": [
        "import cv2\n",
        "import numpy as np\n",
        "import os\n",
        "import pandas as pd\n",
        "import tensorflow as tf\n",
        "from sklearn import model_selection\n",
        "from keras.callbacks import EarlyStopping\n",
        "import matplotlib.pyplot as plt\n",
        "import seaborn as sns\n",
        "from sklearn.metrics import confusion_matrix, accuracy_score, classification_report"
      ],
      "metadata": {
        "id": "pORqWVNfpDXX"
      },
      "execution_count": null,
      "outputs": []
    },
    {
      "cell_type": "code",
      "source": [
        "# global variables\n",
        "\n",
        "INPUT_SHAPE_X = 128\n",
        "INPUT_SHAPE_Y = 64\n",
        "ITERATION = '3'\n",
        "EPOCHS = 1000\n",
        "BATCH_SIZE = 20\n",
        "\n",
        "max_images = 1400 # max images per class"
      ],
      "metadata": {
        "id": "jmKkoA9xpDaE"
      },
      "execution_count": null,
      "outputs": []
    },
    {
      "cell_type": "code",
      "source": [
        "# load labels\n",
        "csv_path = 'labels_preprocessed.csv'\n",
        "labels = pd.read_csv(csv_path)\n",
        "# replace NaN values with 0s\n",
        "labels.fillna(0, inplace=True)"
      ],
      "metadata": {
        "id": "A7Ih3AUlpSr1"
      },
      "execution_count": null,
      "outputs": []
    },
    {
      "cell_type": "code",
      "source": [
        "# load the images\n",
        "whiskers_path = 'muzzle'\n",
        "whiskers_dir = os.listdir(whiskers_path)\n",
        "x_whiskers = []\n",
        "y_whiskers = []\n",
        "i = 0\n",
        "class_0 = 0\n",
        "class_1 = 0\n",
        "class_2 = 0\n",
        "\n",
        "# iterate over images\n",
        "for image in whiskers_dir:\n",
        "    # load the image\n",
        "    image_path = os.path.join(whiskers_path, image)\n",
        "    img = tf.keras.preprocessing.image.load_img(image_path, target_size=(INPUT_SHAPE_X, INPUT_SHAPE_Y))\n",
        "    img = tf.keras.preprocessing.image.img_to_array(img)\n",
        "    \n",
        "    # preprocess the image\n",
        "    if (img is not None):\n",
        "    \n",
        "        # check image class\n",
        "        image_class = labels.loc[labels['imageid'] == image, 'whiskers_position']\n",
        "\n",
        "        if not image_class.empty:\n",
        "            image_class = image_class.iloc[0]    \n",
        "            \n",
        "            # append an equal number of images from each class\n",
        "            if (image_class == 0.0 and class_0 < max_images):\n",
        "                x_whiskers.append(img)\n",
        "                y_whiskers.append(image_class)\n",
        "                class_0 += 1\n",
        "                if (i == max_images*3):\n",
        "                    break\n",
        "                i+=1\n",
        "                \n",
        "                \n",
        "            elif (image_class == 1.0 and class_1 < max_images):\n",
        "                x_whiskers.append(img)\n",
        "                y_whiskers.append(image_class)\n",
        "                class_1 += 1\n",
        "                if (i == max_images*3):\n",
        "                    break\n",
        "                i+=1\n",
        "                \n",
        "                \n",
        "            elif (image_class == 2.0 and class_2 < max_images):\n",
        "                x_whiskers.append(img)\n",
        "                y_whiskers.append(image_class)\n",
        "                class_2 += 1\n",
        "                if (i == max_images*3):\n",
        "                    break\n",
        "                i+=1\n",
        "  \n"
      ],
      "metadata": {
        "id": "LYMx2EFXpp4s"
      },
      "execution_count": null,
      "outputs": []
    },
    {
      "cell_type": "code",
      "source": [
        "# add flipped images from class 2\n",
        "flipped_path = 'muzzle-flipped'\n",
        "for image in os.listdir(flipped_path):\n",
        "    image_path = os.path.join(flipped_path, image)\n",
        "    img = tf.keras.preprocessing.image.load_img(image_path, target_size=(INPUT_SHAPE_X, INPUT_SHAPE_Y))\n",
        "    img = tf.keras.preprocessing.image.img_to_array(img)\n",
        "    x_whiskers.append(img)\n",
        "    y_whiskers.append(2)\n",
        "    class_2 += 1"
      ],
      "metadata": {
        "id": "fR1mEp1kZnBo"
      },
      "execution_count": null,
      "outputs": []
    },
    {
      "cell_type": "code",
      "source": [
        "# add augmented images from class 2\n",
        "aug_path = 'muzzle-augmented'\n",
        "for image in os.listdir(aug_path):\n",
        "    image_path = os.path.join(aug_path, image)\n",
        "    img = tf.keras.preprocessing.image.load_img(image_path, target_size=(INPUT_SHAPE_X, INPUT_SHAPE_Y))\n",
        "    img = tf.keras.preprocessing.image.img_to_array(img)\n",
        "    x_whiskers.append(img)\n",
        "    y_whiskers.append(2)\n",
        "    class_2 += 1"
      ],
      "metadata": {
        "id": "t7yZtk90ZvYV"
      },
      "execution_count": null,
      "outputs": []
    },
    {
      "cell_type": "code",
      "source": [
        "print(class_0, class_1, class_2)"
      ],
      "metadata": {
        "colab": {
          "base_uri": "https://localhost:8080/"
        },
        "id": "-Z1bHTP0aHm1",
        "outputId": "57bc8e02-7379-443a-df78-9443974684f8"
      },
      "execution_count": null,
      "outputs": [
        {
          "output_type": "stream",
          "name": "stdout",
          "text": [
            "1400 1400 1452\n"
          ]
        }
      ]
    },
    {
      "cell_type": "code",
      "source": [
        "# preprocess\n",
        "x_whiskers = tf.keras.applications.vgg16.preprocess_input(np.array(x_whiskers))\n",
        "\n",
        "# split the dataset into train and test sets\n",
        "x_train_val, x_test, y_train_val, y_test = model_selection.train_test_split(\n",
        "    x_whiskers, y_whiskers, test_size=0.2, random_state=42)\n",
        "\n",
        "# split the train and validation sets\n",
        "x_train, x_val, y_train, y_val = model_selection.train_test_split(\n",
        "    x_train_val, y_train_val, test_size=0.2, random_state=42)\n",
        "\n",
        "# one-hot code labels\n",
        "y_train = tf.one_hot(y_train,3)\n",
        "y_val = tf.one_hot(y_val,3)\n",
        "y_test = tf.one_hot(y_test,3)"
      ],
      "metadata": {
        "id": "lpC6P1xspxid"
      },
      "execution_count": null,
      "outputs": []
    },
    {
      "cell_type": "code",
      "source": [
        "# create the model\n",
        "model = tf.keras.models.Sequential()\n",
        "model.add(tf.keras.applications.vgg16.VGG16(weights='vgg16_weights_tf_dim_ordering_tf_kernels_notop.h5', \n",
        "                                            include_top=False,\n",
        "                                            input_shape=(INPUT_SHAPE_X, INPUT_SHAPE_Y, 3)))\n",
        "model.add(tf.keras.layers.Flatten(input_shape=model.output_shape[1:]))\n",
        "model.add(tf.keras.layers.Dense(256, activation='relu'))\n",
        "model.add(tf.keras.layers.Dropout(0.4))\n",
        "model.add(tf.keras.layers.Dense(128, activation='relu'))\n",
        "model.add(tf.keras.layers.Dropout(0.2))\n",
        "model.add(tf.keras.layers.Dense(3, activation='softmax'))"
      ],
      "metadata": {
        "id": "2PERmuI_qBCe"
      },
      "execution_count": null,
      "outputs": []
    },
    {
      "cell_type": "code",
      "source": [
        "# compile the model\n",
        "earlystop = EarlyStopping(monitor='val_loss', patience=5)\n",
        "model.compile(optimizer=tf.keras.optimizers.SGD(learning_rate=1e-3), \n",
        "              loss='categorical_crossentropy', \n",
        "              metrics=['accuracy'])"
      ],
      "metadata": {
        "id": "AbkIzniwqF8-"
      },
      "execution_count": null,
      "outputs": []
    },
    {
      "cell_type": "code",
      "source": [
        "model.summary()"
      ],
      "metadata": {
        "colab": {
          "base_uri": "https://localhost:8080/"
        },
        "id": "C2SQPbZ85CN8",
        "outputId": "0f975182-0ee0-4975-896f-f1c57aea98a1"
      },
      "execution_count": null,
      "outputs": [
        {
          "output_type": "stream",
          "name": "stdout",
          "text": [
            "Model: \"sequential_12\"\n",
            "_________________________________________________________________\n",
            " Layer (type)                Output Shape              Param #   \n",
            "=================================================================\n",
            " vgg16 (Functional)          (None, 4, 2, 512)         14714688  \n",
            "                                                                 \n",
            " flatten_12 (Flatten)        (None, 4096)              0         \n",
            "                                                                 \n",
            " dense_46 (Dense)            (None, 256)               1048832   \n",
            "                                                                 \n",
            " dropout_25 (Dropout)        (None, 256)               0         \n",
            "                                                                 \n",
            " dense_47 (Dense)            (None, 128)               32896     \n",
            "                                                                 \n",
            " dropout_26 (Dropout)        (None, 128)               0         \n",
            "                                                                 \n",
            " dense_48 (Dense)            (None, 3)                 387       \n",
            "                                                                 \n",
            "=================================================================\n",
            "Total params: 15,796,803\n",
            "Trainable params: 15,796,803\n",
            "Non-trainable params: 0\n",
            "_________________________________________________________________\n"
          ]
        }
      ]
    },
    {
      "cell_type": "code",
      "source": [
        "# train the model\n",
        "hist = model.fit(x_train, y_train, \n",
        "              epochs = EPOCHS,\n",
        "              batch_size = BATCH_SIZE, \n",
        "              validation_data = (x_val, y_val),\n",
        "              callbacks = [earlystop])"
      ],
      "metadata": {
        "colab": {
          "base_uri": "https://localhost:8080/"
        },
        "id": "nAJFsk5hqF_E",
        "outputId": "cfd58db8-97ca-474b-ded8-eb8468bac36b"
      },
      "execution_count": null,
      "outputs": [
        {
          "output_type": "stream",
          "name": "stdout",
          "text": [
            "Epoch 1/1000\n",
            "136/136 [==============================] - 11s 68ms/step - loss: 1.3393 - accuracy: 0.3978 - val_loss: 1.0055 - val_accuracy: 0.4126\n",
            "Epoch 2/1000\n",
            "136/136 [==============================] - 9s 66ms/step - loss: 1.0348 - accuracy: 0.4118 - val_loss: 0.9901 - val_accuracy: 0.4479\n",
            "Epoch 3/1000\n",
            "136/136 [==============================] - 9s 66ms/step - loss: 1.0133 - accuracy: 0.4320 - val_loss: 0.9816 - val_accuracy: 0.4493\n",
            "Epoch 4/1000\n",
            "136/136 [==============================] - 9s 66ms/step - loss: 0.9948 - accuracy: 0.4449 - val_loss: 0.9593 - val_accuracy: 0.4640\n",
            "Epoch 5/1000\n",
            "136/136 [==============================] - 9s 66ms/step - loss: 0.9834 - accuracy: 0.4559 - val_loss: 0.9627 - val_accuracy: 0.4596\n",
            "Epoch 6/1000\n",
            "136/136 [==============================] - 9s 65ms/step - loss: 0.9742 - accuracy: 0.4827 - val_loss: 0.9569 - val_accuracy: 0.4670\n",
            "Epoch 7/1000\n",
            "136/136 [==============================] - 9s 64ms/step - loss: 0.9768 - accuracy: 0.4772 - val_loss: 1.0103 - val_accuracy: 0.4258\n",
            "Epoch 8/1000\n",
            "136/136 [==============================] - 9s 65ms/step - loss: 0.9569 - accuracy: 0.5022 - val_loss: 0.9509 - val_accuracy: 0.4816\n",
            "Epoch 9/1000\n",
            "136/136 [==============================] - 9s 65ms/step - loss: 0.9430 - accuracy: 0.5118 - val_loss: 0.9545 - val_accuracy: 0.4890\n",
            "Epoch 10/1000\n",
            "136/136 [==============================] - 9s 65ms/step - loss: 0.9316 - accuracy: 0.5408 - val_loss: 0.9455 - val_accuracy: 0.4993\n",
            "Epoch 11/1000\n",
            "136/136 [==============================] - 9s 65ms/step - loss: 0.9167 - accuracy: 0.5312 - val_loss: 0.9469 - val_accuracy: 0.4802\n",
            "Epoch 12/1000\n",
            "136/136 [==============================] - 9s 65ms/step - loss: 0.9002 - accuracy: 0.5482 - val_loss: 0.9722 - val_accuracy: 0.5081\n",
            "Epoch 13/1000\n",
            "136/136 [==============================] - 9s 66ms/step - loss: 0.8699 - accuracy: 0.5732 - val_loss: 0.9957 - val_accuracy: 0.4816\n",
            "Epoch 14/1000\n",
            "136/136 [==============================] - 9s 66ms/step - loss: 0.8557 - accuracy: 0.5846 - val_loss: 0.9617 - val_accuracy: 0.4905\n",
            "Epoch 15/1000\n",
            "136/136 [==============================] - 9s 66ms/step - loss: 0.8325 - accuracy: 0.6026 - val_loss: 0.9783 - val_accuracy: 0.4905\n"
          ]
        }
      ]
    },
    {
      "cell_type": "code",
      "source": [
        "# save the model and training history\n",
        "path = 'model_' + ITERATION\n",
        "model.save(path)\n",
        "\n",
        "history_df = pd.DataFrame(hist.history)\n",
        "path = 'whiskers_history_' + ITERATION +'.csv'\n",
        "history_df.to_csv(path, index=False)"
      ],
      "metadata": {
        "colab": {
          "base_uri": "https://localhost:8080/"
        },
        "id": "DZxKC7fXqVMz",
        "outputId": "c7ed6fc2-348a-47e6-9000-d552ec1a44d8"
      },
      "execution_count": null,
      "outputs": [
        {
          "output_type": "stream",
          "name": "stderr",
          "text": [
            "WARNING:absl:Found untraced functions such as _jit_compiled_convolution_op, _jit_compiled_convolution_op, _jit_compiled_convolution_op, _jit_compiled_convolution_op, _jit_compiled_convolution_op while saving (showing 5 of 13). These functions will not be directly callable after loading.\n"
          ]
        }
      ]
    },
    {
      "cell_type": "code",
      "source": [
        "# evaluate the model\n",
        "results = model.evaluate(x_test, y_test)\n",
        "print(results)"
      ],
      "metadata": {
        "colab": {
          "base_uri": "https://localhost:8080/"
        },
        "id": "wR_v3x2dqGBW",
        "outputId": "508f6f16-2280-40d4-836b-58629633b6ef"
      },
      "execution_count": null,
      "outputs": [
        {
          "output_type": "stream",
          "name": "stdout",
          "text": [
            "27/27 [==============================] - 1s 24ms/step - loss: 0.9777 - accuracy: 0.4665\n",
            "[0.9776561260223389, 0.46650999784469604]\n"
          ]
        }
      ]
    },
    {
      "cell_type": "code",
      "source": [
        "# make predictions\n",
        "prob_array = model.predict(x_test)\n",
        "class_indices = np.argmax(prob_array, axis=1)\n",
        "\n",
        "# convert the class indices to a one-hot encoded array\n",
        "class_indices = np.argmax(prob_array, axis=1)\n",
        "num_classes = 3\n",
        "y_pred = np.zeros((prob_array.shape[0], num_classes))\n",
        "y_pred[np.arange(prob_array.shape[0]), class_indices] = 1"
      ],
      "metadata": {
        "colab": {
          "base_uri": "https://localhost:8080/"
        },
        "id": "X8VgBTyDqOAH",
        "outputId": "92fed258-e034-4225-e9b8-4b4dff71cd70"
      },
      "execution_count": null,
      "outputs": [
        {
          "output_type": "stream",
          "name": "stdout",
          "text": [
            "27/27 [==============================] - 1s 24ms/step\n"
          ]
        }
      ]
    },
    {
      "cell_type": "code",
      "source": [
        "# make a classification report\n",
        "\n",
        "print('\\nAccuracy: {:.2f}\\n'.format(accuracy_score(y_test, y_pred)))\n",
        "print('\\nClassification Report - whiskers\\n')\n",
        "print(classification_report(y_test, y_pred, target_names=['Score 0', 'Score 1', 'Score 2']))"
      ],
      "metadata": {
        "colab": {
          "base_uri": "https://localhost:8080/"
        },
        "id": "ypYlr3Swq9Rn",
        "outputId": "e904e5e1-df3e-40d3-e29d-e3c2b9699bc6"
      },
      "execution_count": null,
      "outputs": [
        {
          "output_type": "stream",
          "name": "stdout",
          "text": [
            "\n",
            "Accuracy: 0.51\n",
            "\n",
            "\n",
            "Classification Report - whiskers\n",
            "\n",
            "              precision    recall  f1-score   support\n",
            "\n",
            "     Score 0       0.45      0.61      0.52       298\n",
            "     Score 1       0.44      0.39      0.41       269\n",
            "     Score 2       0.70      0.52      0.60       284\n",
            "\n",
            "   micro avg       0.51      0.51      0.51       851\n",
            "   macro avg       0.53      0.51      0.51       851\n",
            "weighted avg       0.53      0.51      0.51       851\n",
            " samples avg       0.51      0.51      0.51       851\n",
            "\n"
          ]
        }
      ]
    },
    {
      "cell_type": "code",
      "source": [
        "# make a confusion matrix\n",
        "confusion = confusion_matrix(np.asarray(y_test).argmax(axis=1), np.asarray(y_pred).argmax(axis=1))\n",
        "print('Confusion Matrix\\n')\n",
        "print(confusion)\n",
        "\n",
        "lables = ['0','1','2']    \n",
        "ax= plt.subplot()\n",
        "sns.heatmap(confusion, annot=True, fmt='g', ax=ax);\n",
        "\n",
        "# labels, title and ticks\n",
        "ax.set_xlabel('Predicted labels');ax.set_ylabel('True labels'); \n",
        "ax.set_title('Confusion Matrix - whiskers'); \n",
        "ax.xaxis.set_ticklabels(lables); ax.yaxis.set_ticklabels(lables);\n",
        "plt.show()"
      ],
      "metadata": {
        "colab": {
          "base_uri": "https://localhost:8080/",
          "height": 557
        },
        "id": "xbTmQZWerAa7",
        "outputId": "5753657c-2115-413d-cbe1-c763f19c3bf1"
      },
      "execution_count": null,
      "outputs": [
        {
          "output_type": "stream",
          "name": "stdout",
          "text": [
            "Confusion Matrix\n",
            "\n",
            "[[183  83  32]\n",
            " [135 104  30]\n",
            " [ 85  51 148]]\n"
          ]
        },
        {
          "output_type": "display_data",
          "data": {
            "text/plain": [
              "<Figure size 640x480 with 2 Axes>"
            ],
            "image/png": "[encoded data removed]"
          },
          "metadata": {}
        }
      ]
    },
    {
      "cell_type": "code",
      "source": [
        "!zip -r model_3.zip model_3"
      ],
      "metadata": {
        "colab": {
          "base_uri": "https://localhost:8080/"
        },
        "id": "pewcJ0LagMpV",
        "outputId": "b1e8d28a-5af0-4c24-81b2-1fd0047a6fd9"
      },
      "execution_count": null,
      "outputs": [
        {
          "output_type": "stream",
          "name": "stdout",
          "text": [
            "  adding: model_3/ (stored 0%)\n",
            "  adding: model_3/assets/ (stored 0%)\n",
            "  adding: model_3/keras_metadata.pb (deflated 96%)\n",
            "  adding: model_3/fingerprint.pb (stored 0%)\n",
            "  adding: model_3/variables/ (stored 0%)\n",
            "  adding: model_3/variables/variables.data-00000-of-00001 (deflated 19%)\n",
            "  adding: model_3/variables/variables.index (deflated 68%)\n",
            "  adding: model_3/saved_model.pb (deflated 90%)\n"
          ]
        }
      ]
    }
  ]
}