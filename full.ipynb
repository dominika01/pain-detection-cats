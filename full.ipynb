{
  "cells": [
    {
      "cell_type": "code",
      "execution_count": 11,
      "metadata": {
        "id": "pORqWVNfpDXX"
      },
      "outputs": [],
      "source": [
        "import cv2\n",
        "import numpy as np\n",
        "import os\n",
        "import pandas as pd\n",
        "import tensorflow as tf\n",
        "from sklearn import model_selection\n",
        "from keras.callbacks import EarlyStopping\n",
        "import matplotlib.pyplot as plt\n",
        "import seaborn as sns\n",
        "from sklearn.metrics import confusion_matrix, accuracy_score, classification_report"
      ]
    },
    {
      "cell_type": "code",
      "execution_count": 49,
      "metadata": {
        "id": "jmKkoA9xpDaE"
      },
      "outputs": [],
      "source": [
        "# global variables\n",
        "\n",
        "INPUT_SHAPE_X = 256\n",
        "INPUT_SHAPE_Y = 256\n",
        "ITERATION = '1'\n",
        "EPOCHS = 1000\n",
        "BATCH_SIZE = 32\n",
        "\n",
        "max_images = 600 # max images per class"
      ]
    },
    {
      "cell_type": "code",
      "execution_count": 13,
      "metadata": {
        "id": "A7Ih3AUlpSr1"
      },
      "outputs": [],
      "source": [
        "# load labels\n",
        "csv_path = 'data-labels/labels_preprocessed.csv'\n",
        "labels = pd.read_csv(csv_path)\n",
        "# replace NaN values with 0s\n",
        "labels.fillna(0, inplace=True)"
      ]
    },
    {
      "cell_type": "code",
      "execution_count": 50,
      "metadata": {
        "id": "LYMx2EFXpp4s"
      },
      "outputs": [
        {
          "name": "stdout",
          "output_type": "stream",
          "text": [
            "issue with data-pain/8e8711a9-46da-4426-88cf-5e45195fa301.png\n",
            "issue with data-pain/9b26679f-1ae6-49ba-8e30-5814d1b76cab.png\n",
            "issue with data-pain/a70f45f6-cc25-47e4-a1f9-45b8ba808b0b.jpeg\n",
            "issue with data-pain/sadcat199.jpg\n",
            "issue with data-pain/878d1bd2-d695-4a0e-be9b-68a3023c0770.png\n",
            "issue with data-pain/6dc9d34c-7c03-44cf-a369-3f6721bc56c1.jpg\n",
            "issue with data-pain/8f369f7d-d78c-4e63-bb2e-973e01445e4c.png\n",
            "issue with data-pain/b1655a56-58d0-4719-9882-49493b371531.jpeg\n",
            "issue with data-pain/545f2b7a-ed0a-48de-a0fb-a8daf897b857.png\n",
            "issue with data-pain/1f04e6ce-d7a0-44f7-9409-08f90f9b781e.png\n",
            "issue with data-pain/df227fcd-408e-4b78-b04c-8301f4058ac5.jpeg\n",
            "issue with data-pain/9d7a588e-cbcc-4f22-beb7-80e3a08a9eaa.jpeg\n",
            "issue with data-pain/7f38ca2e-3fb1-4367-a9ae-b1fb6870ce49.jpeg\n",
            "issue with data-pain/224653ec-8ac8-402d-b198-44d44b16a440.jpeg\n",
            "issue with data-pain/42c15231-df17-4b29-a235-8f3f565b98c4.png\n",
            "issue with data-pain/033ddaa7-f64f-4402-841a-f43c45c2352a.jpeg\n",
            "issue with data-pain/ac3b9afb-b815-4503-ae30-7ac7167f9c1c.png\n",
            "issue with data-pain/c8dd3dd7-26ef-48c7-a8d0-d43c3ae524be.jpeg\n",
            "issue with data-pain/e14a21f5-cf31-428e-a662-32b81ec7bfb1.jpeg\n",
            "issue with data-pain/f25bbeca-984c-4ca6-807c-20d058aec2aa.png\n",
            "issue with data-pain/5f196ad7-7aa2-44de-b7ce-0145ad8db1bd.jpeg\n",
            "issue with data-pain/fb87310d-4dc8-42d1-b184-566914f1b21a.jpeg\n",
            "issue with data-pain/32ede4a9-2e0f-40ca-9d9c-1e90b3b97be7.jpeg\n",
            "issue with data-pain/2e0bc304-719c-42e0-9548-a18bbeb61302.jpeg\n",
            "issue with data-pain/catpainface_labels.csv\n",
            "issue with data-pain/6a121cf1-6bf9-468b-b167-62ae450cd5a6.jpg\n",
            "issue with data-pain/95e03547-9050-4ec3-aadc-202f40ec9b02.jpeg\n",
            "issue with data-pain/3f8c94e4-41da-44e4-8243-3ad27f803d3b.png\n",
            "issue with data-pain/sadcat256.jpg\n",
            "issue with data-pain/4ba8c255-3e01-43d9-86b9-033a152d4c32.png\n",
            "issue with data-pain/3df12d7d-b5b6-4ace-8805-55938c252f07.png\n",
            "issue with data-pain/c074f0d6-e8d8-42bb-9756-623426f5a5e4.png\n",
            "issue with data-pain/8f627658-98e9-49de-a6b9-ba68519c646c.jpeg\n",
            "issue with data-pain/d9441afc-d81b-463e-9968-5ac51b81b244.jpg\n"
          ]
        }
      ],
      "source": [
        "# load the images\n",
        "head_path = 'data-pain'\n",
        "head_dir = os.listdir(head_path)\n",
        "x_head = []\n",
        "y_head = []\n",
        "i = 0\n",
        "class_0 = 0\n",
        "class_1 = 0\n",
        "class_2 = 0\n",
        "\n",
        "# iterate over images\n",
        "for image in head_dir:\n",
        "    # load the image\n",
        "    image_path = os.path.join(head_path, image)\n",
        "    try:\n",
        "        img = tf.keras.preprocessing.image.load_img(image_path, target_size=(INPUT_SHAPE_X, INPUT_SHAPE_Y))\n",
        "        img = tf.keras.preprocessing.image.img_to_array(img)\n",
        "        \n",
        "        # preprocess the image\n",
        "        if (img is not None):\n",
        "        \n",
        "            # check image class\n",
        "            image_class = labels.loc[labels['imageid'] == image, 'overall_impression']\n",
        "\n",
        "            if not image_class.empty:\n",
        "                image_class = image_class.iloc[0]    \n",
        "                \n",
        "                # append an equal number of images from each class\n",
        "                if (image_class == 0.0 and class_0 < max_images):\n",
        "                    x_head.append(img)\n",
        "                    y_head.append(image_class)\n",
        "                    class_0 += 1\n",
        "                    if (i == max_images*3):\n",
        "                        break\n",
        "                    i+=1\n",
        "                    \n",
        "                    \n",
        "                elif (image_class == 1.0 and class_1 < max_images):\n",
        "                    x_head.append(img)\n",
        "                    y_head.append(image_class)\n",
        "                    class_1 += 1\n",
        "                    if (i == max_images*3):\n",
        "                        break\n",
        "                    i+=1\n",
        "                    \n",
        "                    \n",
        "                elif (image_class == 2.0 and class_2 < max_images):\n",
        "                    x_head.append(img)\n",
        "                    y_head.append(image_class)\n",
        "                    class_2 += 1\n",
        "                    if (i == max_images*3):\n",
        "                        break\n",
        "                    i+=1\n",
        "    except:\n",
        "        print(\"issue with\", image_path)\n"
      ]
    },
    {
      "cell_type": "code",
      "execution_count": 51,
      "metadata": {
        "id": "fR1mEp1kZnBo"
      },
      "outputs": [],
      "source": [
        "# add flipped images from class 2\n",
        "flipped_path = 'data/full-flipped'\n",
        "for image in os.listdir(flipped_path):\n",
        "    image_path = os.path.join(flipped_path, image)\n",
        "    img = tf.keras.preprocessing.image.load_img(image_path, target_size=(INPUT_SHAPE_X, INPUT_SHAPE_Y))\n",
        "    img = tf.keras.preprocessing.image.img_to_array(img)\n",
        "    x_head.append(img)\n",
        "    y_head.append(2)\n",
        "    class_2 += 1"
      ]
    },
    {
      "cell_type": "code",
      "execution_count": 52,
      "metadata": {
        "id": "t7yZtk90ZvYV"
      },
      "outputs": [],
      "source": [
        "# add augmented images from class 2\n",
        "aug_path = 'data/full-augmented'\n",
        "for image in os.listdir(aug_path):\n",
        "    image_path = os.path.join(aug_path, image)\n",
        "    img = tf.keras.preprocessing.image.load_img(image_path, target_size=(INPUT_SHAPE_X, INPUT_SHAPE_Y))\n",
        "    img = tf.keras.preprocessing.image.img_to_array(img)\n",
        "    x_head.append(img)\n",
        "    y_head.append(2)\n",
        "    class_2 += 1"
      ]
    },
    {
      "cell_type": "code",
      "execution_count": 19,
      "metadata": {
        "colab": {
          "base_uri": "https://localhost:8080/"
        },
        "id": "-Z1bHTP0aHm1",
        "outputId": "26468ab4-53d6-442a-a322-7d7d269a4fa2"
      },
      "outputs": [
        {
          "name": "stdout",
          "output_type": "stream",
          "text": [
            "600 600 600\n"
          ]
        }
      ],
      "source": [
        "print(class_0, class_1, class_2)"
      ]
    },
    {
      "cell_type": "code",
      "execution_count": 53,
      "metadata": {
        "id": "lpC6P1xspxid"
      },
      "outputs": [],
      "source": [
        "# preprocess\n",
        "x_head = tf.keras.applications.resnet50.preprocess_input(np.array(x_head))\n",
        "\n",
        "# split the dataset into train and test sets\n",
        "x_train_val, x_test, y_train_val, y_test = model_selection.train_test_split(\n",
        "    x_head, y_head, test_size=0.2, random_state=42)\n",
        "\n",
        "# split the train and validation sets\n",
        "x_train, x_val, y_train, y_val = model_selection.train_test_split(\n",
        "    x_train_val, y_train_val, test_size=0.2, random_state=42)\n",
        "\n",
        "# one-hot code labels\n",
        "y_train = tf.cast(y_train,dtype=tf.int32)\n",
        "y_val = tf.cast(y_val,dtype=tf.int32)\n",
        "y_test = tf.cast(y_test,dtype=tf.int32)\n",
        "\n",
        "y_train = tf.one_hot(y_train,3)\n",
        "y_val = tf.one_hot(y_val,3)\n",
        "y_test = tf.one_hot(y_test,3)"
      ]
    },
    {
      "cell_type": "code",
      "execution_count": 69,
      "metadata": {
        "id": "2PERmuI_qBCe"
      },
      "outputs": [],
      "source": [
        "# create the model\n",
        "model = tf.keras.models.Sequential()\n",
        "model.add(tf.keras.applications.resnet50.ResNet50(weights='weights/resnet50_weights_tf_dim_ordering_tf_kernels_notop.h5', \n",
        "                                            include_top=False,\n",
        "                                            input_shape=(INPUT_SHAPE_X, INPUT_SHAPE_Y, 3)))\n",
        "model.add(tf.keras.layers.Flatten(input_shape=model.output_shape[1:]))\n",
        "model.add(tf.keras.layers.Dense(256, activation='relu'))\n",
        "model.add(tf.keras.layers.Dropout(0.4))\n",
        "model.add(tf.keras.layers.Dense(256, activation='relu'))\n",
        "model.add(tf.keras.layers.Dropout(0.2))\n",
        "model.add(tf.keras.layers.Dense(128, activation='relu'))\n",
        "model.add(tf.keras.layers.Dense(3, activation='softmax'))"
      ]
    },
    {
      "cell_type": "code",
      "execution_count": 70,
      "metadata": {
        "id": "AbkIzniwqF8-"
      },
      "outputs": [],
      "source": [
        "# compile the model\n",
        "earlystop = EarlyStopping(monitor='val_loss', patience=10)\n",
        "model.compile(optimizer=tf.keras.optimizers.SGD(learning_rate=1e-3), \n",
        "              loss='categorical_crossentropy', \n",
        "              metrics=['accuracy'])"
      ]
    },
    {
      "cell_type": "code",
      "execution_count": 76,
      "metadata": {
        "colab": {
          "base_uri": "https://localhost:8080/"
        },
        "id": "C2SQPbZ85CN8",
        "outputId": "f85bec21-fcaf-4a03-a5d0-cf14b2031bf1"
      },
      "outputs": [
        {
          "name": "stdout",
          "output_type": "stream",
          "text": [
            "Model: \"sequential_6\"\n",
            "_________________________________________________________________\n",
            " Layer (type)                Output Shape              Param #   \n",
            "=================================================================\n",
            " resnet50 (Functional)       (None, 8, 8, 2048)        23587712  \n",
            "                                                                 \n",
            " flatten_5 (Flatten)         (None, 131072)            0         \n",
            "                                                                 \n",
            " dense_20 (Dense)            (None, 256)               33554688  \n",
            "                                                                 \n",
            " dropout_10 (Dropout)        (None, 256)               0         \n",
            "                                                                 \n",
            " dense_21 (Dense)            (None, 256)               65792     \n",
            "                                                                 \n",
            " dropout_11 (Dropout)        (None, 256)               0         \n",
            "                                                                 \n",
            " dense_22 (Dense)            (None, 128)               32896     \n",
            "                                                                 \n",
            " dense_23 (Dense)            (None, 3)                 387       \n",
            "                                                                 \n",
            "=================================================================\n",
            "Total params: 57,241,475\n",
            "Trainable params: 57,188,355\n",
            "Non-trainable params: 53,120\n",
            "_________________________________________________________________\n"
          ]
        }
      ],
      "source": [
        "model.summary()"
      ]
    },
    {
      "cell_type": "code",
      "execution_count": 71,
      "metadata": {
        "colab": {
          "base_uri": "https://localhost:8080/"
        },
        "id": "nAJFsk5hqF_E",
        "outputId": "8776b420-dcd1-4331-d21c-12be54c3d6a1"
      },
      "outputs": [
        {
          "name": "stdout",
          "output_type": "stream",
          "text": [
            "Epoch 1/1000\n"
          ]
        },
        {
          "name": "stderr",
          "output_type": "stream",
          "text": [
            "2023-04-27 15:22:54.194686: I tensorflow/core/grappler/optimizers/custom_graph_optimizer_registry.cc:113] Plugin optimizer for device_type GPU is enabled.\n"
          ]
        },
        {
          "name": "stdout",
          "output_type": "stream",
          "text": [
            "32/32 [==============================] - ETA: 0s - loss: 1.3594 - accuracy: 0.3945"
          ]
        },
        {
          "name": "stderr",
          "output_type": "stream",
          "text": [
            "2023-04-27 15:23:48.555410: I tensorflow/core/grappler/optimizers/custom_graph_optimizer_registry.cc:113] Plugin optimizer for device_type GPU is enabled.\n"
          ]
        },
        {
          "name": "stdout",
          "output_type": "stream",
          "text": [
            "32/32 [==============================] - 61s 2s/step - loss: 1.3594 - accuracy: 0.3945 - val_loss: 1.1585 - val_accuracy: 0.3984\n",
            "Epoch 2/1000\n",
            "32/32 [==============================] - 53s 2s/step - loss: 0.8675 - accuracy: 0.6045 - val_loss: 1.1478 - val_accuracy: 0.4062\n",
            "Epoch 3/1000\n",
            "32/32 [==============================] - 54s 2s/step - loss: 0.6432 - accuracy: 0.7383 - val_loss: 1.1712 - val_accuracy: 0.4062\n",
            "Epoch 4/1000\n",
            "32/32 [==============================] - 55s 2s/step - loss: 0.4766 - accuracy: 0.8037 - val_loss: 1.1498 - val_accuracy: 0.4453\n",
            "Epoch 5/1000\n",
            "32/32 [==============================] - 53s 2s/step - loss: 0.3497 - accuracy: 0.8721 - val_loss: 1.2495 - val_accuracy: 0.4531\n",
            "Epoch 6/1000\n",
            "32/32 [==============================] - 54s 2s/step - loss: 0.2686 - accuracy: 0.9111 - val_loss: 1.2289 - val_accuracy: 0.4570\n",
            "Epoch 7/1000\n",
            "32/32 [==============================] - 56s 2s/step - loss: 0.1820 - accuracy: 0.9561 - val_loss: 1.1744 - val_accuracy: 0.5117\n",
            "Epoch 8/1000\n",
            "32/32 [==============================] - 58s 2s/step - loss: 0.1415 - accuracy: 0.9688 - val_loss: 1.2351 - val_accuracy: 0.5117\n",
            "Epoch 9/1000\n",
            "32/32 [==============================] - 56s 2s/step - loss: 0.1089 - accuracy: 0.9824 - val_loss: 1.3107 - val_accuracy: 0.4961\n",
            "Epoch 10/1000\n",
            "32/32 [==============================] - 58s 2s/step - loss: 0.0821 - accuracy: 0.9863 - val_loss: 1.2271 - val_accuracy: 0.5195\n",
            "Epoch 11/1000\n",
            "32/32 [==============================] - 63s 2s/step - loss: 0.0730 - accuracy: 0.9805 - val_loss: 1.2684 - val_accuracy: 0.5039\n",
            "Epoch 12/1000\n",
            "32/32 [==============================] - 63s 2s/step - loss: 0.0611 - accuracy: 0.9922 - val_loss: 1.3320 - val_accuracy: 0.5000\n"
          ]
        }
      ],
      "source": [
        "# train the model\n",
        "hist = model.fit(x_train, y_train, \n",
        "              epochs=EPOCHS,\n",
        "              batch_size=BATCH_SIZE, \n",
        "              validation_data=(x_val, y_val),\n",
        "              callbacks=[earlystop])"
      ]
    },
    {
      "cell_type": "code",
      "execution_count": 55,
      "metadata": {
        "colab": {
          "base_uri": "https://localhost:8080/"
        },
        "id": "DZxKC7fXqVMz",
        "outputId": "f17ee975-5766-46f6-990e-ea22f936f5e1"
      },
      "outputs": [
        {
          "name": "stderr",
          "output_type": "stream",
          "text": [
            "WARNING:absl:Found untraced functions such as _jit_compiled_convolution_op, _jit_compiled_convolution_op, _jit_compiled_convolution_op, _jit_compiled_convolution_op, _jit_compiled_convolution_op while saving (showing 5 of 13). These functions will not be directly callable after loading.\n"
          ]
        },
        {
          "name": "stdout",
          "output_type": "stream",
          "text": [
            "INFO:tensorflow:Assets written to: model-eyes/assets\n"
          ]
        },
        {
          "name": "stderr",
          "output_type": "stream",
          "text": [
            "INFO:tensorflow:Assets written to: model-eyes/assets\n"
          ]
        }
      ],
      "source": [
        "# save the model and training history\n",
        "path = 'model-full'\n",
        "model.save(path)\n",
        "\n",
        "history_df = pd.DataFrame(hist.history)\n",
        "path = 'history-full.csv'\n",
        "history_df.to_csv(path, index=False)"
      ]
    },
    {
      "cell_type": "code",
      "execution_count": 72,
      "metadata": {
        "colab": {
          "base_uri": "https://localhost:8080/"
        },
        "id": "wR_v3x2dqGBW",
        "outputId": "a8411bee-4c84-4e72-8bc8-50cc0f395597"
      },
      "outputs": [
        {
          "name": "stdout",
          "output_type": "stream",
          "text": [
            "10/10 [==============================] - 5s 483ms/step - loss: 1.2245 - accuracy: 0.5281\n",
            "[1.2245447635650635, 0.528124988079071]\n"
          ]
        }
      ],
      "source": [
        "# evaluate the model\n",
        "results = model.evaluate(x_test, y_test)\n",
        "print(results)"
      ]
    },
    {
      "cell_type": "code",
      "execution_count": 73,
      "metadata": {
        "colab": {
          "base_uri": "https://localhost:8080/"
        },
        "id": "X8VgBTyDqOAH",
        "outputId": "ddc14cc9-1b36-4ed5-f603-53856dcc8be5"
      },
      "outputs": [
        {
          "name": "stderr",
          "output_type": "stream",
          "text": [
            "2023-04-27 15:55:36.024066: I tensorflow/core/grappler/optimizers/custom_graph_optimizer_registry.cc:113] Plugin optimizer for device_type GPU is enabled.\n"
          ]
        },
        {
          "name": "stdout",
          "output_type": "stream",
          "text": [
            "10/10 [==============================] - 7s 473ms/step\n"
          ]
        }
      ],
      "source": [
        "# make predictions\n",
        "prob_array = model.predict(x_test)\n",
        "class_indices = np.argmax(prob_array, axis=1)\n",
        "\n",
        "# convert the class indices to a one-hot encoded array\n",
        "class_indices = np.argmax(prob_array, axis=1)\n",
        "num_classes = 3\n",
        "y_pred = np.zeros((prob_array.shape[0], num_classes))\n",
        "y_pred[np.arange(prob_array.shape[0]), class_indices] = 1"
      ]
    },
    {
      "cell_type": "code",
      "execution_count": 74,
      "metadata": {
        "colab": {
          "base_uri": "https://localhost:8080/"
        },
        "id": "ypYlr3Swq9Rn",
        "outputId": "9de73f7e-8fad-44f8-bf87-9b063950b6b9"
      },
      "outputs": [
        {
          "name": "stdout",
          "output_type": "stream",
          "text": [
            "\n",
            "Accuracy: 0.53\n",
            "\n",
            "\n",
            "Classification Report\n",
            "\n",
            "              precision    recall  f1-score   support\n",
            "\n",
            "     Score 0       0.61      0.57      0.59       130\n",
            "     Score 1       0.45      0.61      0.52       119\n",
            "     Score 2       0.59      0.32      0.42        71\n",
            "\n",
            "   micro avg       0.53      0.53      0.53       320\n",
            "   macro avg       0.55      0.50      0.51       320\n",
            "weighted avg       0.55      0.53      0.52       320\n",
            " samples avg       0.53      0.53      0.53       320\n",
            "\n"
          ]
        }
      ],
      "source": [
        "# make a classification report\n",
        "\n",
        "print('\\nAccuracy: {:.2f}\\n'.format(accuracy_score(y_test, y_pred)))\n",
        "print('\\nClassification Report\\n')\n",
        "print(classification_report(y_test, y_pred, target_names=['Score 0', 'Score 1', 'Score 2']))"
      ]
    },
    {
      "cell_type": "code",
      "execution_count": 75,
      "metadata": {
        "colab": {
          "base_uri": "https://localhost:8080/",
          "height": 557
        },
        "id": "xbTmQZWerAa7",
        "outputId": "c3c3a765-70e4-4b1b-e7c3-9e4763b656b0"
      },
      "outputs": [
        {
          "name": "stdout",
          "output_type": "stream",
          "text": [
            "Confusion Matrix\n",
            "\n",
            "[[74 52  4]\n",
            " [35 72 12]\n",
            " [12 36 23]]\n"
          ]
        },
        {
          "data": {
            "image/png": "[encoded data removed]",
            "text/plain": [
              "<Figure size 640x480 with 2 Axes>"
            ]
          },
          "metadata": {},
          "output_type": "display_data"
        }
      ],
      "source": [
        "# make a confusion matrix\n",
        "confusion = confusion_matrix(np.asarray(y_test).argmax(axis=1), np.asarray(y_pred).argmax(axis=1))\n",
        "print('Confusion Matrix\\n')\n",
        "print(confusion)\n",
        "\n",
        "lables = ['0','1','2']    \n",
        "ax= plt.subplot()\n",
        "sns.heatmap(confusion, annot=True, fmt='g', ax=ax);\n",
        "\n",
        "# labels, title and ticks\n",
        "ax.set_xlabel('Predicted labels');ax.set_ylabel('True labels'); \n",
        "ax.xaxis.set_ticklabels(lables); ax.yaxis.set_ticklabels(lables);\n",
        "plt.show()"
      ]
    }
  ],
  "metadata": {
    "accelerator": "GPU",
    "colab": {
      "machine_shape": "hm",
      "provenance": []
    },
    "gpuClass": "premium",
    "kernelspec": {
      "display_name": "Python 3",
      "name": "python3"
    },
    "language_info": {
      "codemirror_mode": {
        "name": "ipython",
        "version": 3
      },
      "file_extension": ".py",
      "mimetype": "text/x-python",
      "name": "python",
      "nbconvert_exporter": "python",
      "pygments_lexer": "ipython3",
      "version": "3.10.0"
    }
  },
  "nbformat": 4,
  "nbformat_minor": 0
}
