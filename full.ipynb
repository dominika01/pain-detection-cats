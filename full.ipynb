{
  "cells": [
    {
      "cell_type": "code",
      "execution_count": 1,
      "metadata": {
        "id": "pORqWVNfpDXX"
      },
      "outputs": [],
      "source": [
        "import cv2\n",
        "import numpy as np\n",
        "import os\n",
        "import pandas as pd\n",
        "import tensorflow as tf\n",
        "from sklearn import model_selection\n",
        "from keras.callbacks import EarlyStopping\n",
        "import matplotlib.pyplot as plt\n",
        "import seaborn as sns\n",
        "from sklearn.metrics import confusion_matrix, accuracy_score, classification_report"
      ]
    },
    {
      "cell_type": "code",
      "execution_count": 2,
      "metadata": {
        "id": "jmKkoA9xpDaE"
      },
      "outputs": [],
      "source": [
        "# global variables\n",
        "\n",
        "INPUT_SHAPE_X = 256\n",
        "INPUT_SHAPE_Y = 256\n",
        "ITERATION = '1'\n",
        "EPOCHS = 1000\n",
        "BATCH_SIZE = 32\n",
        "\n",
        "max_images = 600 # max images per class"
      ]
    },
    {
      "cell_type": "code",
      "execution_count": 3,
      "metadata": {
        "id": "A7Ih3AUlpSr1"
      },
      "outputs": [],
      "source": [
        "# load labels\n",
        "csv_path = 'data-labels/labels_preprocessed.csv'\n",
        "labels = pd.read_csv(csv_path)\n",
        "# replace NaN values with 0s\n",
        "labels.fillna(0, inplace=True)"
      ]
    },
    {
      "cell_type": "code",
      "execution_count": 4,
      "metadata": {
        "id": "LYMx2EFXpp4s"
      },
      "outputs": [
        {
          "name": "stdout",
          "output_type": "stream",
          "text": [
            "issue with data-pain/8e8711a9-46da-4426-88cf-5e45195fa301.png\n",
            "issue with data-pain/a70f45f6-cc25-47e4-a1f9-45b8ba808b0b.jpeg\n",
            "issue with data-pain/df227fcd-408e-4b78-b04c-8301f4058ac5.jpeg\n",
            "issue with data-pain/7f38ca2e-3fb1-4367-a9ae-b1fb6870ce49.jpeg\n",
            "issue with data-pain/catpainface_labels.csv\n",
            "issue with data-pain/95e03547-9050-4ec3-aadc-202f40ec9b02.jpeg\n",
            "issue with data-pain/8f627658-98e9-49de-a6b9-ba68519c646c.jpeg\n",
            "issue with data-pain/d9441afc-d81b-463e-9968-5ac51b81b244.jpg\n"
          ]
        }
      ],
      "source": [
        "# load the images\n",
        "head_path = 'data-pain'\n",
        "head_dir = os.listdir(head_path)\n",
        "x_head = []\n",
        "y_head = []\n",
        "i = 0\n",
        "class_0 = 0\n",
        "class_1 = 0\n",
        "class_2 = 0\n",
        "\n",
        "# iterate over images\n",
        "for image in head_dir:\n",
        "    # load the image\n",
        "    image_path = os.path.join(head_path, image)\n",
        "    try:\n",
        "        img = tf.keras.preprocessing.image.load_img(image_path, target_size=(INPUT_SHAPE_X, INPUT_SHAPE_Y))\n",
        "        img = tf.keras.preprocessing.image.img_to_array(img)\n",
        "        \n",
        "        # preprocess the image\n",
        "        if (img is not None):\n",
        "        \n",
        "            # check image class\n",
        "            image_class = labels.loc[labels['imageid'] == image, 'overall_impression']\n",
        "\n",
        "            if not image_class.empty:\n",
        "                image_class = image_class.iloc[0]    \n",
        "                \n",
        "                # append an equal number of images from each class\n",
        "                if (image_class == 0.0 and class_0 < max_images):\n",
        "                    x_head.append(img)\n",
        "                    y_head.append(image_class)\n",
        "                    class_0 += 1\n",
        "                    if (i == max_images*3):\n",
        "                        break\n",
        "                    i+=1\n",
        "                    \n",
        "                    \n",
        "                elif (image_class == 1.0 and class_1 < max_images):\n",
        "                    x_head.append(img)\n",
        "                    y_head.append(image_class)\n",
        "                    class_1 += 1\n",
        "                    if (i == max_images*3):\n",
        "                        break\n",
        "                    i+=1\n",
        "                    \n",
        "                    \n",
        "                elif (image_class == 2.0 and class_2 < max_images):\n",
        "                    x_head.append(img)\n",
        "                    y_head.append(image_class)\n",
        "                    class_2 += 1\n",
        "                    if (i == max_images*3):\n",
        "                        break\n",
        "                    i+=1\n",
        "    except:\n",
        "        print(\"issue with\", image_path)\n"
      ]
    },
    {
      "cell_type": "code",
      "execution_count": 5,
      "metadata": {
        "id": "fR1mEp1kZnBo"
      },
      "outputs": [],
      "source": [
        "# add flipped images from class 2\n",
        "flipped_path = 'data/head-flipped'\n",
        "for image in os.listdir(flipped_path):\n",
        "    image_path = os.path.join(flipped_path, image)\n",
        "    img = tf.keras.preprocessing.image.load_img(image_path, target_size=(INPUT_SHAPE_X, INPUT_SHAPE_Y))\n",
        "    img = tf.keras.preprocessing.image.img_to_array(img)\n",
        "    x_head.append(img)\n",
        "    y_head.append(2)\n",
        "    class_2 += 1"
      ]
    },
    {
      "cell_type": "code",
      "execution_count": 6,
      "metadata": {
        "id": "t7yZtk90ZvYV"
      },
      "outputs": [],
      "source": [
        "# add augmented images from class 2\n",
        "aug_path = 'data/head-augmented'\n",
        "for image in os.listdir(aug_path):\n",
        "    image_path = os.path.join(aug_path, image)\n",
        "    img = tf.keras.preprocessing.image.load_img(image_path, target_size=(INPUT_SHAPE_X, INPUT_SHAPE_Y))\n",
        "    img = tf.keras.preprocessing.image.img_to_array(img)\n",
        "    x_head.append(img)\n",
        "    y_head.append(2)\n",
        "    class_2 += 1"
      ]
    },
    {
      "cell_type": "code",
      "execution_count": 7,
      "metadata": {
        "colab": {
          "base_uri": "https://localhost:8080/"
        },
        "id": "-Z1bHTP0aHm1",
        "outputId": "26468ab4-53d6-442a-a322-7d7d269a4fa2"
      },
      "outputs": [
        {
          "name": "stdout",
          "output_type": "stream",
          "text": [
            "600 600 1420\n"
          ]
        }
      ],
      "source": [
        "print(class_0, class_1, class_2)"
      ]
    },
    {
      "cell_type": "code",
      "execution_count": 8,
      "metadata": {
        "id": "lpC6P1xspxid"
      },
      "outputs": [
        {
          "name": "stdout",
          "output_type": "stream",
          "text": [
            "Metal device set to: Apple M1\n",
            "\n",
            "systemMemory: 16.00 GB\n",
            "maxCacheSize: 5.33 GB\n",
            "\n"
          ]
        },
        {
          "name": "stderr",
          "output_type": "stream",
          "text": [
            "2023-04-21 19:47:18.948452: I tensorflow/core/common_runtime/pluggable_device/pluggable_device_factory.cc:305] Could not identify NUMA node of platform GPU ID 0, defaulting to 0. Your kernel may not have been built with NUMA support.\n",
            "2023-04-21 19:47:18.948553: I tensorflow/core/common_runtime/pluggable_device/pluggable_device_factory.cc:271] Created TensorFlow device (/job:localhost/replica:0/task:0/device:GPU:0 with 0 MB memory) -> physical PluggableDevice (device: 0, name: METAL, pci bus id: <undefined>)\n"
          ]
        }
      ],
      "source": [
        "# preprocess\n",
        "x_head = tf.keras.applications.vgg16.preprocess_input(np.array(x_head))\n",
        "\n",
        "# split the dataset into train and test sets\n",
        "x_train_val, x_test, y_train_val, y_test = model_selection.train_test_split(\n",
        "    x_head, y_head, test_size=0.2, random_state=42)\n",
        "\n",
        "# split the train and validation sets\n",
        "x_train, x_val, y_train, y_val = model_selection.train_test_split(\n",
        "    x_train_val, y_train_val, test_size=0.2, random_state=42)\n",
        "\n",
        "# one-hot code labels\n",
        "y_train = tf.cast(y_train,dtype=tf.int32)\n",
        "y_val = tf.cast(y_val,dtype=tf.int32)\n",
        "y_test = tf.cast(y_test,dtype=tf.int32)\n",
        "\n",
        "y_train = tf.one_hot(y_train,3)\n",
        "y_val = tf.one_hot(y_val,3)\n",
        "y_test = tf.one_hot(y_test,3)"
      ]
    },
    {
      "cell_type": "code",
      "execution_count": 9,
      "metadata": {
        "id": "2PERmuI_qBCe"
      },
      "outputs": [],
      "source": [
        "# create the model\n",
        "model = tf.keras.models.Sequential()\n",
        "model.add(tf.keras.applications.vgg16.VGG16(weights='weights/vgg16_weights_tf_dim_ordering_tf_kernels_notop.h5', \n",
        "                                            include_top=False,\n",
        "                                            input_shape=(INPUT_SHAPE_X, INPUT_SHAPE_Y, 3)))\n",
        "model.add(tf.keras.layers.Flatten(input_shape=model.output_shape[1:]))\n",
        "model.add(tf.keras.layers.Dense(256, activation='relu'))\n",
        "model.add(tf.keras.layers.Dropout(0.4))\n",
        "model.add(tf.keras.layers.Dense(256, activation='relu'))\n",
        "model.add(tf.keras.layers.Dropout(0.2))\n",
        "model.add(tf.keras.layers.Dense(128, activation='relu'))\n",
        "model.add(tf.keras.layers.Dense(3, activation='softmax'))"
      ]
    },
    {
      "cell_type": "code",
      "execution_count": 10,
      "metadata": {
        "id": "AbkIzniwqF8-"
      },
      "outputs": [],
      "source": [
        "# compile the model\n",
        "earlystop = EarlyStopping(monitor='val_loss', patience=5)\n",
        "model.compile(optimizer=tf.keras.optimizers.SGD(learning_rate=1e-3), \n",
        "              loss='categorical_crossentropy', \n",
        "              metrics=['accuracy'])"
      ]
    },
    {
      "cell_type": "code",
      "execution_count": 11,
      "metadata": {
        "colab": {
          "base_uri": "https://localhost:8080/"
        },
        "id": "C2SQPbZ85CN8",
        "outputId": "f85bec21-fcaf-4a03-a5d0-cf14b2031bf1"
      },
      "outputs": [
        {
          "name": "stdout",
          "output_type": "stream",
          "text": [
            "Model: \"sequential\"\n",
            "_________________________________________________________________\n",
            " Layer (type)                Output Shape              Param #   \n",
            "=================================================================\n",
            " vgg16 (Functional)          (None, 8, 8, 512)         14714688  \n",
            "                                                                 \n",
            " flatten (Flatten)           (None, 32768)             0         \n",
            "                                                                 \n",
            " dense (Dense)               (None, 256)               8388864   \n",
            "                                                                 \n",
            " dropout (Dropout)           (None, 256)               0         \n",
            "                                                                 \n",
            " dense_1 (Dense)             (None, 256)               65792     \n",
            "                                                                 \n",
            " dropout_1 (Dropout)         (None, 256)               0         \n",
            "                                                                 \n",
            " dense_2 (Dense)             (None, 128)               32896     \n",
            "                                                                 \n",
            " dense_3 (Dense)             (None, 3)                 387       \n",
            "                                                                 \n",
            "=================================================================\n",
            "Total params: 23,202,627\n",
            "Trainable params: 23,202,627\n",
            "Non-trainable params: 0\n",
            "_________________________________________________________________\n"
          ]
        }
      ],
      "source": [
        "model.summary()"
      ]
    },
    {
      "cell_type": "code",
      "execution_count": 12,
      "metadata": {
        "colab": {
          "base_uri": "https://localhost:8080/"
        },
        "id": "nAJFsk5hqF_E",
        "outputId": "8776b420-dcd1-4331-d21c-12be54c3d6a1"
      },
      "outputs": [
        {
          "name": "stdout",
          "output_type": "stream",
          "text": [
            "Epoch 1/1000\n"
          ]
        },
        {
          "name": "stderr",
          "output_type": "stream",
          "text": [
            "2023-04-21 19:47:36.531237: W tensorflow/core/platform/profile_utils/cpu_utils.cc:128] Failed to get CPU frequency: 0 Hz\n",
            "2023-04-21 19:47:36.875085: I tensorflow/core/grappler/optimizers/custom_graph_optimizer_registry.cc:113] Plugin optimizer for device_type GPU is enabled.\n"
          ]
        },
        {
          "name": "stdout",
          "output_type": "stream",
          "text": [
            "53/53 [==============================] - ETA: 0s - loss: 1.2853 - accuracy: 0.5113"
          ]
        },
        {
          "name": "stderr",
          "output_type": "stream",
          "text": [
            "2023-04-21 19:50:14.039291: I tensorflow/core/grappler/optimizers/custom_graph_optimizer_registry.cc:113] Plugin optimizer for device_type GPU is enabled.\n"
          ]
        },
        {
          "name": "stdout",
          "output_type": "stream",
          "text": [
            "53/53 [==============================] - 168s 3s/step - loss: 1.2853 - accuracy: 0.5113 - val_loss: 0.8463 - val_accuracy: 0.5405\n",
            "Epoch 2/1000\n",
            "53/53 [==============================] - 175s 3s/step - loss: 0.8582 - accuracy: 0.5489 - val_loss: 0.8291 - val_accuracy: 0.5643\n",
            "Epoch 3/1000\n",
            "53/53 [==============================] - 186s 4s/step - loss: 0.8277 - accuracy: 0.5680 - val_loss: 0.8218 - val_accuracy: 0.5690\n",
            "Epoch 4/1000\n",
            "53/53 [==============================] - 174s 3s/step - loss: 0.8069 - accuracy: 0.5805 - val_loss: 0.8136 - val_accuracy: 0.5905\n",
            "Epoch 5/1000\n",
            "53/53 [==============================] - 186s 4s/step - loss: 0.7780 - accuracy: 0.6217 - val_loss: 0.8549 - val_accuracy: 0.4857\n",
            "Epoch 6/1000\n",
            "53/53 [==============================] - 192s 4s/step - loss: 0.7373 - accuracy: 0.6432 - val_loss: 0.8350 - val_accuracy: 0.5548\n",
            "Epoch 7/1000\n",
            "53/53 [==============================] - 196s 4s/step - loss: 0.7008 - accuracy: 0.6748 - val_loss: 0.7717 - val_accuracy: 0.6190\n",
            "Epoch 8/1000\n",
            "53/53 [==============================] - 192s 4s/step - loss: 0.6692 - accuracy: 0.7005 - val_loss: 1.0198 - val_accuracy: 0.4595\n",
            "Epoch 9/1000\n",
            "53/53 [==============================] - 191s 4s/step - loss: 0.6637 - accuracy: 0.7023 - val_loss: 0.7795 - val_accuracy: 0.6095\n",
            "Epoch 10/1000\n",
            "53/53 [==============================] - 194s 4s/step - loss: 0.5717 - accuracy: 0.7613 - val_loss: 0.8180 - val_accuracy: 0.5643\n",
            "Epoch 11/1000\n",
            "53/53 [==============================] - 192s 4s/step - loss: 0.5430 - accuracy: 0.7679 - val_loss: 0.9051 - val_accuracy: 0.5976\n",
            "Epoch 12/1000\n",
            "53/53 [==============================] - 189s 4s/step - loss: 0.4765 - accuracy: 0.8013 - val_loss: 0.9635 - val_accuracy: 0.5857\n"
          ]
        }
      ],
      "source": [
        "# train the model\n",
        "hist = model.fit(x_train, y_train, \n",
        "              epochs=EPOCHS,\n",
        "              batch_size=BATCH_SIZE, \n",
        "              validation_data=(x_val, y_val),\n",
        "              callbacks=[earlystop])"
      ]
    },
    {
      "cell_type": "code",
      "execution_count": 55,
      "metadata": {
        "colab": {
          "base_uri": "https://localhost:8080/"
        },
        "id": "DZxKC7fXqVMz",
        "outputId": "f17ee975-5766-46f6-990e-ea22f936f5e1"
      },
      "outputs": [
        {
          "name": "stderr",
          "output_type": "stream",
          "text": [
            "WARNING:absl:Found untraced functions such as _jit_compiled_convolution_op, _jit_compiled_convolution_op, _jit_compiled_convolution_op, _jit_compiled_convolution_op, _jit_compiled_convolution_op while saving (showing 5 of 13). These functions will not be directly callable after loading.\n"
          ]
        },
        {
          "name": "stdout",
          "output_type": "stream",
          "text": [
            "INFO:tensorflow:Assets written to: model-eyes/assets\n"
          ]
        },
        {
          "name": "stderr",
          "output_type": "stream",
          "text": [
            "INFO:tensorflow:Assets written to: model-eyes/assets\n"
          ]
        }
      ],
      "source": [
        "# save the model and training history\n",
        "path = 'model-eyes'\n",
        "model.save(path)\n",
        "\n",
        "history_df = pd.DataFrame(hist.history)\n",
        "path = 'history-eyes.csv'\n",
        "history_df.to_csv(path, index=False)"
      ]
    },
    {
      "cell_type": "code",
      "execution_count": 51,
      "metadata": {
        "colab": {
          "base_uri": "https://localhost:8080/"
        },
        "id": "wR_v3x2dqGBW",
        "outputId": "a8411bee-4c84-4e72-8bc8-50cc0f395597"
      },
      "outputs": [
        {
          "name": "stdout",
          "output_type": "stream",
          "text": [
            "29/29 [==============================] - 3s 98ms/step - loss: 1.3637 - accuracy: 0.6952\n",
            "[1.3636865615844727, 0.6951754689216614]\n"
          ]
        }
      ],
      "source": [
        "# evaluate the model\n",
        "results = model.evaluate(x_test, y_test)\n",
        "print(results)"
      ]
    },
    {
      "cell_type": "code",
      "execution_count": 13,
      "metadata": {
        "colab": {
          "base_uri": "https://localhost:8080/"
        },
        "id": "X8VgBTyDqOAH",
        "outputId": "ddc14cc9-1b36-4ed5-f603-53856dcc8be5"
      },
      "outputs": [
        {
          "name": "stdout",
          "output_type": "stream",
          "text": [
            " 1/17 [>.............................] - ETA: 10s"
          ]
        },
        {
          "name": "stderr",
          "output_type": "stream",
          "text": [
            "2023-04-21 21:05:26.729837: I tensorflow/core/grappler/optimizers/custom_graph_optimizer_registry.cc:113] Plugin optimizer for device_type GPU is enabled.\n"
          ]
        },
        {
          "name": "stdout",
          "output_type": "stream",
          "text": [
            "17/17 [==============================] - 13s 756ms/step\n"
          ]
        }
      ],
      "source": [
        "# make predictions\n",
        "prob_array = model.predict(x_test)\n",
        "class_indices = np.argmax(prob_array, axis=1)\n",
        "\n",
        "# convert the class indices to a one-hot encoded array\n",
        "class_indices = np.argmax(prob_array, axis=1)\n",
        "num_classes = 3\n",
        "y_pred = np.zeros((prob_array.shape[0], num_classes))\n",
        "y_pred[np.arange(prob_array.shape[0]), class_indices] = 1"
      ]
    },
    {
      "cell_type": "code",
      "execution_count": 14,
      "metadata": {
        "colab": {
          "base_uri": "https://localhost:8080/"
        },
        "id": "ypYlr3Swq9Rn",
        "outputId": "9de73f7e-8fad-44f8-bf87-9b063950b6b9"
      },
      "outputs": [
        {
          "name": "stdout",
          "output_type": "stream",
          "text": [
            "\n",
            "Accuracy: 0.56\n",
            "\n",
            "\n",
            "Classification Report - eyes\n",
            "\n",
            "              precision    recall  f1-score   support\n",
            "\n",
            "     Score 0       0.50      0.19      0.27       117\n",
            "     Score 1       0.38      0.15      0.21       128\n",
            "     Score 2       0.59      0.91      0.72       279\n",
            "\n",
            "   micro avg       0.56      0.56      0.56       524\n",
            "   macro avg       0.49      0.42      0.40       524\n",
            "weighted avg       0.52      0.56      0.49       524\n",
            " samples avg       0.56      0.56      0.56       524\n",
            "\n"
          ]
        }
      ],
      "source": [
        "# make a classification report\n",
        "\n",
        "print('\\nAccuracy: {:.2f}\\n'.format(accuracy_score(y_test, y_pred)))\n",
        "print('\\nClassification Report - eyes\\n')\n",
        "print(classification_report(y_test, y_pred, target_names=['Score 0', 'Score 1', 'Score 2']))"
      ]
    },
    {
      "cell_type": "code",
      "execution_count": 54,
      "metadata": {
        "colab": {
          "base_uri": "https://localhost:8080/",
          "height": 557
        },
        "id": "xbTmQZWerAa7",
        "outputId": "c3c3a765-70e4-4b1b-e7c3-9e4763b656b0"
      },
      "outputs": [
        {
          "name": "stdout",
          "output_type": "stream",
          "text": [
            "Confusion Matrix\n",
            "\n",
            "[[201 115  15]\n",
            " [ 80 198  39]\n",
            " [  1  28 235]]\n"
          ]
        },
        {
          "data": {
            "image/png": "[encoded data removed]",
            "text/plain": [
              "<Figure size 640x480 with 2 Axes>"
            ]
          },
          "metadata": {},
          "output_type": "display_data"
        }
      ],
      "source": [
        "# make a confusion matrix\n",
        "confusion = confusion_matrix(np.asarray(y_test).argmax(axis=1), np.asarray(y_pred).argmax(axis=1))\n",
        "print('Confusion Matrix\\n')\n",
        "print(confusion)\n",
        "\n",
        "lables = ['0','1','2']    \n",
        "ax= plt.subplot()\n",
        "sns.heatmap(confusion, annot=True, fmt='g', ax=ax);\n",
        "\n",
        "# labels, title and ticks\n",
        "ax.set_xlabel('Predicted labels');ax.set_ylabel('True labels'); \n",
        "ax.set_title('Confusion Matrix - eyes'); \n",
        "ax.xaxis.set_ticklabels(lables); ax.yaxis.set_ticklabels(lables);\n",
        "plt.show()"
      ]
    }
  ],
  "metadata": {
    "accelerator": "GPU",
    "colab": {
      "machine_shape": "hm",
      "provenance": []
    },
    "gpuClass": "premium",
    "kernelspec": {
      "display_name": "Python 3",
      "name": "python3"
    },
    "language_info": {
      "codemirror_mode": {
        "name": "ipython",
        "version": 3
      },
      "file_extension": ".py",
      "mimetype": "text/x-python",
      "name": "python",
      "nbconvert_exporter": "python",
      "pygments_lexer": "ipython3",
      "version": "3.10.0"
    }
  },
  "nbformat": 4,
  "nbformat_minor": 0
}
