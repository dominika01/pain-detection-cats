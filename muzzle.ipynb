{
  "cells": [
    {
      "cell_type": "code",
      "execution_count": 16,
      "metadata": {
        "id": "pORqWVNfpDXX"
      },
      "outputs": [],
      "source": [
        "import cv2\n",
        "import numpy as np\n",
        "import os\n",
        "import pandas as pd\n",
        "import tensorflow as tf\n",
        "from sklearn import model_selection\n",
        "from keras.callbacks import EarlyStopping\n",
        "import matplotlib.pyplot as plt\n",
        "import seaborn as sns\n",
        "from sklearn.metrics import confusion_matrix, accuracy_score, classification_report"
      ]
    },
    {
      "cell_type": "code",
      "execution_count": 106,
      "metadata": {
        "id": "jmKkoA9xpDaE"
      },
      "outputs": [],
      "source": [
        "# global variables\n",
        "\n",
        "INPUT_SHAPE_X = 128\n",
        "INPUT_SHAPE_Y = 64\n",
        "ITERATION = '6'\n",
        "EPOCHS = 1000\n",
        "BATCH_SIZE = 64\n",
        "\n",
        "max_images = 1530 # max images per class"
      ]
    },
    {
      "cell_type": "code",
      "execution_count": 18,
      "metadata": {
        "id": "A7Ih3AUlpSr1"
      },
      "outputs": [],
      "source": [
        "# load labels\n",
        "csv_path = 'data-labels/labels_preprocessed.csv'\n",
        "labels = pd.read_csv(csv_path)\n",
        "# replace NaN values with 0s\n",
        "labels.fillna(0, inplace=True)"
      ]
    },
    {
      "cell_type": "code",
      "execution_count": 19,
      "metadata": {
        "id": "LYMx2EFXpp4s"
      },
      "outputs": [],
      "source": [
        "# load the images\n",
        "muzzle_path = 'data/muzzle'\n",
        "muzzle_dir = os.listdir(muzzle_path)\n",
        "x_muzzle = []\n",
        "y_muzzle = []\n",
        "i = 0\n",
        "class_0 = 0\n",
        "class_1 = 0\n",
        "class_2 = 0\n",
        "\n",
        "# iterate over images\n",
        "for image in muzzle_dir:\n",
        "    # load the image\n",
        "    image_path = os.path.join(muzzle_path, image)\n",
        "    img = tf.keras.preprocessing.image.load_img(image_path, target_size=(INPUT_SHAPE_X, INPUT_SHAPE_Y))\n",
        "    img = tf.keras.preprocessing.image.img_to_array(img)\n",
        "    \n",
        "    # preprocess the image\n",
        "    if (img is not None):\n",
        "    \n",
        "        # check image class\n",
        "        image_class = labels.loc[labels['imageid'] == image, 'muzzle_tension']\n",
        "\n",
        "        if not image_class.empty:\n",
        "            image_class = image_class.iloc[0]    \n",
        "            \n",
        "            # append an equal number of images from each class\n",
        "            if (image_class == 0.0 and class_0 < max_images-100):\n",
        "                x_muzzle.append(img)\n",
        "                y_muzzle.append(image_class)\n",
        "                class_0 += 1\n",
        "                if (i == max_images*3):\n",
        "                    break\n",
        "                i+=1\n",
        "                \n",
        "                \n",
        "            elif (image_class == 1.0 and class_1 < max_images):\n",
        "                x_muzzle.append(img)\n",
        "                y_muzzle.append(image_class)\n",
        "                class_1 += 1\n",
        "                if (i == max_images*3):\n",
        "                    break\n",
        "                i+=1\n",
        "                \n",
        "                \n",
        "            elif (image_class == 2.0 and class_2 < max_images):\n",
        "                x_muzzle.append(img)\n",
        "                y_muzzle.append(image_class)\n",
        "                class_2 += 1\n",
        "                if (i == max_images*3):\n",
        "                    break\n",
        "                i+=1\n",
        "  \n"
      ]
    },
    {
      "cell_type": "code",
      "execution_count": 20,
      "metadata": {
        "id": "fR1mEp1kZnBo"
      },
      "outputs": [],
      "source": [
        "# add flipped images from class 2\n",
        "flipped_path = 'data/muzzle-flipped'\n",
        "for image in os.listdir(flipped_path):\n",
        "    image_path = os.path.join(flipped_path, image)\n",
        "    img = tf.keras.preprocessing.image.load_img(image_path, target_size=(INPUT_SHAPE_X, INPUT_SHAPE_Y))\n",
        "    img = tf.keras.preprocessing.image.img_to_array(img)\n",
        "    x_muzzle.append(img)\n",
        "    y_muzzle.append(2)\n",
        "    class_2 += 1"
      ]
    },
    {
      "cell_type": "code",
      "execution_count": 21,
      "metadata": {
        "id": "t7yZtk90ZvYV"
      },
      "outputs": [],
      "source": [
        "# add augmented images from class 2\n",
        "aug_path = 'data/muzzle-augmented'\n",
        "for image in os.listdir(aug_path):\n",
        "    image_path = os.path.join(aug_path, image)\n",
        "    img = tf.keras.preprocessing.image.load_img(image_path, target_size=(INPUT_SHAPE_X, INPUT_SHAPE_Y))\n",
        "    img = tf.keras.preprocessing.image.img_to_array(img)\n",
        "    x_muzzle.append(img)\n",
        "    y_muzzle.append(2)\n",
        "    class_2 += 1"
      ]
    },
    {
      "cell_type": "code",
      "execution_count": 22,
      "metadata": {
        "colab": {
          "base_uri": "https://localhost:8080/"
        },
        "id": "-Z1bHTP0aHm1",
        "outputId": "d3523e39-dd40-4c21-8b4e-1a7ecc296343"
      },
      "outputs": [
        {
          "name": "stdout",
          "output_type": "stream",
          "text": [
            "1430 1530 1530\n"
          ]
        }
      ],
      "source": [
        "print(class_0, class_1, class_2)"
      ]
    },
    {
      "cell_type": "code",
      "execution_count": 23,
      "metadata": {
        "id": "lpC6P1xspxid"
      },
      "outputs": [],
      "source": [
        "# preprocess\n",
        "x_muzzle = tf.keras.applications.vgg16.preprocess_input(np.array(x_muzzle))\n",
        "\n",
        "# split the dataset into train and test sets\n",
        "x_train_val, x_test, y_train_val, y_test = model_selection.train_test_split(\n",
        "    x_muzzle, y_muzzle, test_size=0.2, random_state=42)\n",
        "\n",
        "# split the train and validation sets\n",
        "x_train, x_val, y_train, y_val = model_selection.train_test_split(\n",
        "    x_train_val, y_train_val, test_size=0.2, random_state=42)\n",
        "\n",
        "# one-hot code labels\n",
        "y_train = tf.cast(y_train,dtype=tf.int32)\n",
        "y_val = tf.cast(y_val,dtype=tf.int32)\n",
        "y_test = tf.cast(y_test,dtype=tf.int32)\n",
        "\n",
        "y_train = tf.one_hot(y_train,3)\n",
        "y_val = tf.one_hot(y_val,3)\n",
        "y_test = tf.one_hot(y_test,3)"
      ]
    },
    {
      "cell_type": "code",
      "execution_count": 99,
      "metadata": {
        "id": "2PERmuI_qBCe"
      },
      "outputs": [],
      "source": [
        "# create the model\n",
        "model = tf.keras.models.Sequential()\n",
        "model.add(tf.keras.applications.vgg16.VGG16(weights='weights/vgg16_weights_tf_dim_ordering_tf_kernels_notop.h5', \n",
        "                                            include_top=False,\n",
        "                                            input_shape=(INPUT_SHAPE_X, INPUT_SHAPE_Y, 3)))\n",
        "model.add(tf.keras.layers.Flatten(input_shape=model.output_shape[1:]))\n",
        "model.add(tf.keras.layers.Dense(256, activation='relu'))\n",
        "model.add(tf.keras.layers.Dropout(0.2))\n",
        "model.add(tf.keras.layers.Dense(128, activation='relu'))\n",
        "model.add(tf.keras.layers.Dropout(0.2))\n",
        "model.add(tf.keras.layers.Dense(128, activation='relu'))\n",
        "model.add(tf.keras.layers.Dense(3, activation='softmax'))"
      ]
    },
    {
      "cell_type": "code",
      "execution_count": 100,
      "metadata": {
        "id": "AbkIzniwqF8-"
      },
      "outputs": [],
      "source": [
        "# compile the model\n",
        "earlystop = EarlyStopping(monitor='val_loss', patience=5)\n",
        "model.compile(optimizer=tf.keras.optimizers.SGD(learning_rate=1e-3), \n",
        "              loss='categorical_crossentropy', \n",
        "              metrics=['accuracy'])"
      ]
    },
    {
      "cell_type": "code",
      "execution_count": 87,
      "metadata": {
        "colab": {
          "base_uri": "https://localhost:8080/"
        },
        "id": "C2SQPbZ85CN8",
        "outputId": "e51e23ac-69d4-4bab-ce65-cf5fd6ed08d1"
      },
      "outputs": [
        {
          "name": "stdout",
          "output_type": "stream",
          "text": [
            "Model: \"sequential_9\"\n",
            "_________________________________________________________________\n",
            " Layer (type)                Output Shape              Param #   \n",
            "=================================================================\n",
            " vgg16 (Functional)          (None, 4, 2, 512)         14714688  \n",
            "                                                                 \n",
            " flatten_9 (Flatten)         (None, 4096)              0         \n",
            "                                                                 \n",
            " dense_27 (Dense)            (None, 256)               1048832   \n",
            "                                                                 \n",
            " dropout_17 (Dropout)        (None, 256)               0         \n",
            "                                                                 \n",
            " dense_28 (Dense)            (None, 128)               32896     \n",
            "                                                                 \n",
            " dropout_18 (Dropout)        (None, 128)               0         \n",
            "                                                                 \n",
            " dense_29 (Dense)            (None, 128)               16512     \n",
            "                                                                 \n",
            " dense_30 (Dense)            (None, 3)                 387       \n",
            "                                                                 \n",
            "=================================================================\n",
            "Total params: 15,813,315\n",
            "Trainable params: 15,813,315\n",
            "Non-trainable params: 0\n",
            "_________________________________________________________________\n"
          ]
        }
      ],
      "source": [
        "model.summary()"
      ]
    },
    {
      "cell_type": "code",
      "execution_count": 105,
      "metadata": {
        "colab": {
          "base_uri": "https://localhost:8080/"
        },
        "id": "nAJFsk5hqF_E",
        "outputId": "f30d9d60-6a67-42c6-c6bb-b3db10b96348"
      },
      "outputs": [
        {
          "name": "stdout",
          "output_type": "stream",
          "text": [
            "Epoch 1/1000\n",
            "23/23 [==============================] - 101s 4s/step - loss: 0.9389 - accuracy: 0.5068 - val_loss: 1.0210 - val_accuracy: 0.4186\n",
            "Epoch 2/1000\n",
            "23/23 [==============================] - 96s 4s/step - loss: 0.9289 - accuracy: 0.5225 - val_loss: 1.0294 - val_accuracy: 0.4367\n",
            "Epoch 3/1000\n",
            "23/23 [==============================] - 95s 4s/step - loss: 0.9218 - accuracy: 0.5346 - val_loss: 1.0240 - val_accuracy: 0.4367\n",
            "Epoch 4/1000\n",
            "23/23 [==============================] - 90s 4s/step - loss: 0.9150 - accuracy: 0.5468 - val_loss: 1.0278 - val_accuracy: 0.4381\n",
            "Epoch 5/1000\n",
            "23/23 [==============================] - 87s 4s/step - loss: 0.9148 - accuracy: 0.5430 - val_loss: 1.0126 - val_accuracy: 0.4409\n",
            "Epoch 6/1000\n",
            "23/23 [==============================] - 89s 4s/step - loss: 0.8933 - accuracy: 0.5510 - val_loss: 1.0252 - val_accuracy: 0.4270\n",
            "Epoch 7/1000\n",
            "23/23 [==============================] - 87s 4s/step - loss: 0.8867 - accuracy: 0.5694 - val_loss: 1.0164 - val_accuracy: 0.4478\n",
            "Epoch 8/1000\n",
            "23/23 [==============================] - 90s 4s/step - loss: 0.8831 - accuracy: 0.5552 - val_loss: 1.0321 - val_accuracy: 0.4256\n",
            "Epoch 9/1000\n",
            "23/23 [==============================] - 94s 4s/step - loss: 0.8718 - accuracy: 0.5855 - val_loss: 1.0295 - val_accuracy: 0.4381\n",
            "Epoch 10/1000\n",
            "23/23 [==============================] - 94s 4s/step - loss: 0.8662 - accuracy: 0.5740 - val_loss: 1.0651 - val_accuracy: 0.4186\n"
          ]
        }
      ],
      "source": [
        "# train the model\n",
        "hist = model.fit(x_train, y_train, \n",
        "              epochs=EPOCHS,\n",
        "              batch_size=BATCH_SIZE, \n",
        "              validation_data=(x_val, y_val),\n",
        "              callbacks=[earlystop])"
      ]
    },
    {
      "cell_type": "code",
      "execution_count": 86,
      "metadata": {
        "colab": {
          "base_uri": "https://localhost:8080/"
        },
        "id": "DZxKC7fXqVMz",
        "outputId": "640b434f-fe7e-43e2-ba6d-89d60be1e575"
      },
      "outputs": [
        {
          "name": "stderr",
          "output_type": "stream",
          "text": [
            "WARNING:absl:Found untraced functions such as _jit_compiled_convolution_op, _jit_compiled_convolution_op, _jit_compiled_convolution_op, _jit_compiled_convolution_op, _jit_compiled_convolution_op while saving (showing 5 of 13). These functions will not be directly callable after loading.\n"
          ]
        },
        {
          "name": "stdout",
          "output_type": "stream",
          "text": [
            "INFO:tensorflow:Assets written to: model-muzzle/assets\n"
          ]
        },
        {
          "name": "stderr",
          "output_type": "stream",
          "text": [
            "INFO:tensorflow:Assets written to: model-muzzle/assets\n"
          ]
        }
      ],
      "source": [
        "# save the model and training history\n",
        "path = 'model-muzzle'\n",
        "model.save(path)\n",
        "\n",
        "history_df = pd.DataFrame(hist.history)\n",
        "path = 'history-muzzle.csv'\n",
        "history_df.to_csv(path, index=False)"
      ]
    },
    {
      "cell_type": "code",
      "execution_count": 90,
      "metadata": {
        "colab": {
          "base_uri": "https://localhost:8080/"
        },
        "id": "wR_v3x2dqGBW",
        "outputId": "39ae7f2e-e237-495a-86d9-54649f4e1756"
      },
      "outputs": [
        {
          "name": "stdout",
          "output_type": "stream",
          "text": [
            "29/29 [==============================] - 3s 99ms/step - loss: 1.4141 - accuracy: 0.4844\n",
            "[1.4140738248825073, 0.48440980911254883]\n"
          ]
        }
      ],
      "source": [
        "# evaluate the model\n",
        "results = model.evaluate(x_test, y_test)\n",
        "print(results)"
      ]
    },
    {
      "cell_type": "code",
      "execution_count": 91,
      "metadata": {
        "colab": {
          "base_uri": "https://localhost:8080/"
        },
        "id": "X8VgBTyDqOAH",
        "outputId": "0211c8a8-5360-403f-d422-c750f509d9f8"
      },
      "outputs": [
        {
          "name": "stdout",
          "output_type": "stream",
          "text": [
            "29/29 [==============================] - 3s 101ms/step\n"
          ]
        }
      ],
      "source": [
        "# make predictions\n",
        "prob_array = model.predict(x_test)\n",
        "class_indices = np.argmax(prob_array, axis=1)\n",
        "\n",
        "# convert the class indices to a one-hot encoded array\n",
        "class_indices = np.argmax(prob_array, axis=1)\n",
        "num_classes = 3\n",
        "y_pred = np.zeros((prob_array.shape[0], num_classes))\n",
        "y_pred[np.arange(prob_array.shape[0]), class_indices] = 1"
      ]
    },
    {
      "cell_type": "code",
      "execution_count": 92,
      "metadata": {
        "colab": {
          "base_uri": "https://localhost:8080/"
        },
        "id": "ypYlr3Swq9Rn",
        "outputId": "71fbeecc-add8-4333-aa23-d6f35393fa21"
      },
      "outputs": [
        {
          "name": "stdout",
          "output_type": "stream",
          "text": [
            "\n",
            "Accuracy: 0.48\n",
            "\n",
            "\n",
            "Classification Report - muzzle\n",
            "\n",
            "              precision    recall  f1-score   support\n",
            "\n",
            "     Score 0       0.43      0.50      0.46       294\n",
            "     Score 1       0.39      0.44      0.41       298\n",
            "     Score 2       0.73      0.51      0.60       306\n",
            "\n",
            "   micro avg       0.48      0.48      0.48       898\n",
            "   macro avg       0.51      0.48      0.49       898\n",
            "weighted avg       0.52      0.48      0.49       898\n",
            " samples avg       0.48      0.48      0.48       898\n",
            "\n"
          ]
        }
      ],
      "source": [
        "# make a classification report\n",
        "\n",
        "print('\\nAccuracy: {:.2f}\\n'.format(accuracy_score(y_test, y_pred)))\n",
        "print('\\nClassification Report - muzzle\\n')\n",
        "print(classification_report(y_test, y_pred, target_names=['Score 0', 'Score 1', 'Score 2']))"
      ]
    },
    {
      "cell_type": "code",
      "execution_count": 94,
      "metadata": {
        "colab": {
          "base_uri": "https://localhost:8080/",
          "height": 557
        },
        "id": "xbTmQZWerAa7",
        "outputId": "c3f2155a-c374-4ddc-b11d-da10c57d46b4"
      },
      "outputs": [
        {
          "name": "stdout",
          "output_type": "stream",
          "text": [
            "Confusion Matrix\n",
            "\n",
            "[[148 117  29]\n",
            " [139 130  29]\n",
            " [ 61  88 157]]\n"
          ]
        },
        {
          "data": {
            "image/png": "[encoded data removed]",
            "text/plain": [
              "<Figure size 640x480 with 2 Axes>"
            ]
          },
          "metadata": {},
          "output_type": "display_data"
        }
      ],
      "source": [
        "# make a confusion matrix\n",
        "confusion = confusion_matrix(np.asarray(y_test).argmax(axis=1), np.asarray(y_pred).argmax(axis=1))\n",
        "print('Confusion Matrix\\n')\n",
        "print(confusion)\n",
        "\n",
        "lables = ['0','1','2']    \n",
        "ax= plt.subplot()\n",
        "sns.heatmap(confusion, annot=True, fmt='g', ax=ax);\n",
        "\n",
        "# labels, title and ticks\n",
        "ax.set_xlabel('Predicted labels');ax.set_ylabel('True labels'); \n",
        "ax.set_title('Confusion Matrix - muzzle'); \n",
        "ax.xaxis.set_ticklabels(lables); ax.yaxis.set_ticklabels(lables);\n",
        "plt.show()"
      ]
    }
  ],
  "metadata": {
    "accelerator": "GPU",
    "colab": {
      "provenance": []
    },
    "gpuClass": "premium",
    "kernelspec": {
      "display_name": "Python 3",
      "name": "python3"
    },
    "language_info": {
      "name": "python"
    }
  },
  "nbformat": 4,
  "nbformat_minor": 0
}
