{
  "cells": [
    {
      "cell_type": "code",
      "execution_count": 1,
      "metadata": {
        "id": "pORqWVNfpDXX"
      },
      "outputs": [],
      "source": [
        "import cv2\n",
        "import numpy as np\n",
        "import os\n",
        "import pandas as pd\n",
        "import tensorflow as tf\n",
        "from sklearn import model_selection\n",
        "from keras.callbacks import EarlyStopping\n",
        "import matplotlib.pyplot as plt\n",
        "import seaborn as sns\n",
        "from sklearn.metrics import confusion_matrix, accuracy_score, classification_report"
      ]
    },
    {
      "cell_type": "code",
      "execution_count": 33,
      "metadata": {
        "id": "jmKkoA9xpDaE"
      },
      "outputs": [],
      "source": [
        "# global variables\n",
        "\n",
        "INPUT_SHAPE_X = 256\n",
        "INPUT_SHAPE_Y = 256\n",
        "ITERATION = '1'\n",
        "EPOCHS = 1000\n",
        "BATCH_SIZE = 20\n",
        "\n",
        "max_images = 1830 # max images per class"
      ]
    },
    {
      "cell_type": "code",
      "execution_count": 34,
      "metadata": {
        "id": "A7Ih3AUlpSr1"
      },
      "outputs": [],
      "source": [
        "# load labels\n",
        "csv_path = 'data-labels/labels_preprocessed.csv'\n",
        "labels = pd.read_csv(csv_path)\n",
        "# replace NaN values with 0s\n",
        "labels.fillna(0, inplace=True)"
      ]
    },
    {
      "cell_type": "code",
      "execution_count": 35,
      "metadata": {
        "id": "LYMx2EFXpp4s"
      },
      "outputs": [],
      "source": [
        "# load the images\n",
        "head_path = 'data/head'\n",
        "head_dir = os.listdir(head_path)\n",
        "x_head = []\n",
        "y_head = []\n",
        "i = 0\n",
        "class_0 = 0\n",
        "class_1 = 0\n",
        "class_2 = 0\n",
        "\n",
        "# iterate over images\n",
        "for image in head_dir:\n",
        "    # load the image\n",
        "    image_path = os.path.join(head_path, image)\n",
        "    img = tf.keras.preprocessing.image.load_img(image_path, target_size=(INPUT_SHAPE_X, INPUT_SHAPE_Y))\n",
        "    img = tf.keras.preprocessing.image.img_to_array(img)\n",
        "    \n",
        "    # preprocess the image\n",
        "    if (img is not None):\n",
        "    \n",
        "        # check image class\n",
        "        image_class = labels.loc[labels['imageid'] == image, 'head_position']\n",
        "\n",
        "        if not image_class.empty:\n",
        "            image_class = image_class.iloc[0]    \n",
        "            \n",
        "            # append an equal number of images from each class\n",
        "            if (image_class == 0.0 and class_0 < max_images):\n",
        "                x_head.append(img)\n",
        "                y_head.append(image_class)\n",
        "                class_0 += 1\n",
        "                if (i == max_images*3):\n",
        "                    break\n",
        "                i+=1\n",
        "                \n",
        "                \n",
        "            elif (image_class == 1.0 and class_1 < max_images):\n",
        "                x_head.append(img)\n",
        "                y_head.append(image_class)\n",
        "                class_1 += 1\n",
        "                if (i == max_images*3):\n",
        "                    break\n",
        "                i+=1\n",
        "                \n",
        "                \n",
        "            elif (image_class == 2.0 and class_2 < max_images):\n",
        "                x_head.append(img)\n",
        "                y_head.append(image_class)\n",
        "                class_2 += 1\n",
        "                if (i == max_images*3):\n",
        "                    break\n",
        "                i+=1\n",
        "  \n"
      ]
    },
    {
      "cell_type": "code",
      "execution_count": 36,
      "metadata": {
        "id": "fR1mEp1kZnBo"
      },
      "outputs": [],
      "source": [
        "# add flipped images from class 2\n",
        "flipped_path = 'data/head-flipped'\n",
        "for image in os.listdir(flipped_path):\n",
        "    image_path = os.path.join(flipped_path, image)\n",
        "    img = tf.keras.preprocessing.image.load_img(image_path, target_size=(INPUT_SHAPE_X, INPUT_SHAPE_Y))\n",
        "    img = tf.keras.preprocessing.image.img_to_array(img)\n",
        "    x_head.append(img)\n",
        "    y_head.append(2)\n",
        "    class_2 += 1"
      ]
    },
    {
      "cell_type": "code",
      "execution_count": 37,
      "metadata": {
        "id": "t7yZtk90ZvYV"
      },
      "outputs": [],
      "source": [
        "# add augmented images from class 2\n",
        "aug_path = 'data/head-augmented'\n",
        "for image in os.listdir(aug_path):\n",
        "    image_path = os.path.join(aug_path, image)\n",
        "    img = tf.keras.preprocessing.image.load_img(image_path, target_size=(INPUT_SHAPE_X, INPUT_SHAPE_Y))\n",
        "    img = tf.keras.preprocessing.image.img_to_array(img)\n",
        "    x_head.append(img)\n",
        "    y_head.append(2)\n",
        "    class_2 += 1"
      ]
    },
    {
      "cell_type": "code",
      "execution_count": 38,
      "metadata": {
        "colab": {
          "base_uri": "https://localhost:8080/"
        },
        "id": "-Z1bHTP0aHm1",
        "outputId": "6cf93e48-94fc-4471-d7c3-a2cded0f0bc5"
      },
      "outputs": [
        {
          "name": "stdout",
          "output_type": "stream",
          "text": [
            "3200 3160 3041\n"
          ]
        }
      ],
      "source": [
        "print(class_0, class_1, class_2)"
      ]
    },
    {
      "cell_type": "code",
      "execution_count": 39,
      "metadata": {
        "id": "lpC6P1xspxid"
      },
      "outputs": [],
      "source": [
        "# preprocess\n",
        "x_head = tf.keras.applications.vgg16.preprocess_input(np.array(x_head))\n",
        "\n",
        "# split the dataset into train and test sets\n",
        "x_train_val, x_test, y_train_val, y_test = model_selection.train_test_split(\n",
        "    x_head, y_head, test_size=0.2, random_state=42)\n",
        "\n",
        "# split the train and validation sets\n",
        "x_train, x_val, y_train, y_val = model_selection.train_test_split(\n",
        "    x_train_val, y_train_val, test_size=0.2, random_state=42)\n",
        "\n",
        "# one-hot code labels\n",
        "y_train = tf.cast(y_train,dtype=tf.int32)\n",
        "y_val = tf.cast(y_val,dtype=tf.int32)\n",
        "y_test = tf.cast(y_test,dtype=tf.int32)\n",
        "\n",
        "y_train = tf.one_hot(y_train,3)\n",
        "y_val = tf.one_hot(y_val,3)\n",
        "y_test = tf.one_hot(y_test,3)"
      ]
    },
    {
      "cell_type": "code",
      "execution_count": 40,
      "metadata": {
        "id": "2PERmuI_qBCe"
      },
      "outputs": [],
      "source": [
        "# create the model\n",
        "model = tf.keras.models.Sequential()\n",
        "model.add(tf.keras.applications.vgg16.VGG16(weights='weights/vgg16_weights_tf_dim_ordering_tf_kernels_notop.h5', \n",
        "                                            include_top=False,\n",
        "                                            input_shape=(INPUT_SHAPE_X, INPUT_SHAPE_Y, 3)))\n",
        "model.add(tf.keras.layers.Flatten(input_shape=model.output_shape[1:]))\n",
        "model.add(tf.keras.layers.Dense(256, activation=tf.nn.leaky_relu))\n",
        "model.add(tf.keras.layers.Dropout(0.2))\n",
        "model.add(tf.keras.layers.Dense(256, activation=tf.nn.leaky_relu))\n",
        "model.add(tf.keras.layers.Dropout(0.4))\n",
        "model.add(tf.keras.layers.Dense(128, activation=tf.nn.leaky_relu))\n",
        "model.add(tf.keras.layers.Dense(3, activation='softmax'))"
      ]
    },
    {
      "cell_type": "code",
      "execution_count": 42,
      "metadata": {
        "id": "AbkIzniwqF8-"
      },
      "outputs": [],
      "source": [
        "# compile the model\n",
        "earlystop = EarlyStopping(monitor='val_loss', patience=5)\n",
        "model.compile(optimizer=tf.keras.optimizers.SGD(learning_rate=1e-3), \n",
        "              loss='categorical_crossentropy', \n",
        "              metrics=['accuracy'])"
      ]
    },
    {
      "cell_type": "code",
      "execution_count": 12,
      "metadata": {
        "colab": {
          "base_uri": "https://localhost:8080/"
        },
        "id": "C2SQPbZ85CN8",
        "outputId": "79a6c94a-be4b-4334-e5f1-b1aa2a8f736d"
      },
      "outputs": [
        {
          "name": "stdout",
          "output_type": "stream",
          "text": [
            "Model: \"sequential_1\"\n",
            "_________________________________________________________________\n",
            " Layer (type)                Output Shape              Param #   \n",
            "=================================================================\n",
            " vgg16 (Functional)          (None, 4, 2, 512)         14714688  \n",
            "                                                                 \n",
            " flatten (Flatten)           (None, 4096)              0         \n",
            "                                                                 \n",
            " dense (Dense)               (None, 256)               1048832   \n",
            "                                                                 \n",
            " dropout (Dropout)           (None, 256)               0         \n",
            "                                                                 \n",
            " dense_1 (Dense)             (None, 256)               65792     \n",
            "                                                                 \n",
            " dropout_1 (Dropout)         (None, 256)               0         \n",
            "                                                                 \n",
            " dense_2 (Dense)             (None, 128)               32896     \n",
            "                                                                 \n",
            " dense_3 (Dense)             (None, 3)                 387       \n",
            "                                                                 \n",
            "=================================================================\n",
            "Total params: 15,862,595\n",
            "Trainable params: 15,862,595\n",
            "Non-trainable params: 0\n",
            "_________________________________________________________________\n"
          ]
        }
      ],
      "source": [
        "model.summary()"
      ]
    },
    {
      "cell_type": "code",
      "execution_count": 43,
      "metadata": {
        "colab": {
          "base_uri": "https://localhost:8080/"
        },
        "id": "nAJFsk5hqF_E",
        "outputId": "4e4f12e2-b10b-4337-de10-bd3566dc8833"
      },
      "outputs": [
        {
          "name": "stdout",
          "output_type": "stream",
          "text": [
            "Epoch 1/1000\n"
          ]
        },
        {
          "name": "stderr",
          "output_type": "stream",
          "text": [
            "2023-04-11 11:25:49.193977: I tensorflow/core/grappler/optimizers/custom_graph_optimizer_registry.cc:113] Plugin optimizer for device_type GPU is enabled.\n"
          ]
        },
        {
          "name": "stdout",
          "output_type": "stream",
          "text": [
            "301/301 [==============================] - ETA: 0s - loss: 1.1384 - accuracy: 0.3790"
          ]
        },
        {
          "name": "stderr",
          "output_type": "stream",
          "text": [
            "2023-04-11 11:26:53.200167: I tensorflow/core/grappler/optimizers/custom_graph_optimizer_registry.cc:113] Plugin optimizer for device_type GPU is enabled.\n"
          ]
        },
        {
          "name": "stdout",
          "output_type": "stream",
          "text": [
            "301/301 [==============================] - 70s 228ms/step - loss: 1.1384 - accuracy: 0.3790 - val_loss: 1.0196 - val_accuracy: 0.4388\n",
            "Epoch 2/1000\n",
            "301/301 [==============================] - 68s 225ms/step - loss: 1.0356 - accuracy: 0.4297 - val_loss: 0.9909 - val_accuracy: 0.4608\n",
            "Epoch 3/1000\n",
            "301/301 [==============================] - 68s 225ms/step - loss: 1.0033 - accuracy: 0.4581 - val_loss: 0.9655 - val_accuracy: 0.5007\n",
            "Epoch 4/1000\n",
            "301/301 [==============================] - 68s 225ms/step - loss: 0.9608 - accuracy: 0.4917 - val_loss: 0.9217 - val_accuracy: 0.5279\n",
            "Epoch 5/1000\n",
            "301/301 [==============================] - 68s 227ms/step - loss: 0.9123 - accuracy: 0.5354 - val_loss: 0.9414 - val_accuracy: 0.5286\n",
            "Epoch 6/1000\n",
            "301/301 [==============================] - 70s 231ms/step - loss: 0.8775 - accuracy: 0.5665 - val_loss: 0.8805 - val_accuracy: 0.5505\n",
            "Epoch 7/1000\n",
            "301/301 [==============================] - 70s 232ms/step - loss: 0.8312 - accuracy: 0.6012 - val_loss: 0.8837 - val_accuracy: 0.5432\n",
            "Epoch 8/1000\n",
            "301/301 [==============================] - 71s 236ms/step - loss: 0.7881 - accuracy: 0.6155 - val_loss: 0.8968 - val_accuracy: 0.5339\n",
            "Epoch 9/1000\n",
            "301/301 [==============================] - 72s 238ms/step - loss: 0.7298 - accuracy: 0.6617 - val_loss: 0.8974 - val_accuracy: 0.5645\n",
            "Epoch 10/1000\n",
            "301/301 [==============================] - 71s 237ms/step - loss: 0.6771 - accuracy: 0.6857 - val_loss: 0.8408 - val_accuracy: 0.5824\n",
            "Epoch 11/1000\n",
            "301/301 [==============================] - 72s 238ms/step - loss: 0.6058 - accuracy: 0.7345 - val_loss: 0.9893 - val_accuracy: 0.5572\n",
            "Epoch 12/1000\n",
            "301/301 [==============================] - 72s 239ms/step - loss: 0.5351 - accuracy: 0.7668 - val_loss: 0.8872 - val_accuracy: 0.5824\n",
            "Epoch 13/1000\n",
            "301/301 [==============================] - 72s 240ms/step - loss: 0.4830 - accuracy: 0.7894 - val_loss: 0.9270 - val_accuracy: 0.5858\n",
            "Epoch 14/1000\n",
            "301/301 [==============================] - 73s 241ms/step - loss: 0.3996 - accuracy: 0.8394 - val_loss: 1.0799 - val_accuracy: 0.5705\n",
            "Epoch 15/1000\n",
            "301/301 [==============================] - 73s 243ms/step - loss: 0.3393 - accuracy: 0.8640 - val_loss: 1.0921 - val_accuracy: 0.5971\n"
          ]
        }
      ],
      "source": [
        "# train the model\n",
        "hist = model.fit(x_train, y_train, \n",
        "              epochs=EPOCHS,\n",
        "              batch_size=BATCH_SIZE, \n",
        "              validation_data=(x_val, y_val),\n",
        "              callbacks=[earlystop])"
      ]
    },
    {
      "cell_type": "code",
      "execution_count": 44,
      "metadata": {
        "colab": {
          "base_uri": "https://localhost:8080/"
        },
        "id": "DZxKC7fXqVMz",
        "outputId": "2a6c3f3b-1ec3-4ab4-88d8-606dbcab7d37"
      },
      "outputs": [
        {
          "name": "stderr",
          "output_type": "stream",
          "text": [
            "WARNING:absl:Found untraced functions such as _jit_compiled_convolution_op, _jit_compiled_convolution_op, _jit_compiled_convolution_op, _jit_compiled_convolution_op, _jit_compiled_convolution_op while saving (showing 5 of 13). These functions will not be directly callable after loading.\n"
          ]
        },
        {
          "name": "stdout",
          "output_type": "stream",
          "text": [
            "INFO:tensorflow:Assets written to: model-ears/assets\n"
          ]
        },
        {
          "name": "stderr",
          "output_type": "stream",
          "text": [
            "INFO:tensorflow:Assets written to: model-ears/assets\n"
          ]
        }
      ],
      "source": [
        "# save the model and training history\n",
        "path = 'model-head'\n",
        "model.save(path)\n",
        "\n",
        "history_df = pd.DataFrame(hist.history)\n",
        "path = 'history-head.csv'\n",
        "history_df.to_csv(path, index=False)"
      ]
    },
    {
      "cell_type": "code",
      "execution_count": 45,
      "metadata": {
        "colab": {
          "base_uri": "https://localhost:8080/"
        },
        "id": "wR_v3x2dqGBW",
        "outputId": "344fa82c-2727-4b34-d22f-38c341ad2aa3"
      },
      "outputs": [
        {
          "name": "stdout",
          "output_type": "stream",
          "text": [
            "59/59 [==============================] - 6s 107ms/step - loss: 1.1999 - accuracy: 0.5811\n",
            "[1.1999030113220215, 0.5810738801956177]\n"
          ]
        }
      ],
      "source": [
        "# evaluate the model\n",
        "results = model.evaluate(x_test, y_test)\n",
        "print(results)"
      ]
    },
    {
      "cell_type": "code",
      "execution_count": 46,
      "metadata": {
        "colab": {
          "base_uri": "https://localhost:8080/"
        },
        "id": "X8VgBTyDqOAH",
        "outputId": "84aaa471-3cbe-4483-c01e-4c66a16986bf"
      },
      "outputs": [
        {
          "name": "stderr",
          "output_type": "stream",
          "text": [
            "2023-04-11 11:45:36.357227: I tensorflow/core/grappler/optimizers/custom_graph_optimizer_registry.cc:113] Plugin optimizer for device_type GPU is enabled.\n"
          ]
        },
        {
          "name": "stdout",
          "output_type": "stream",
          "text": [
            "59/59 [==============================] - 6s 103ms/step\n"
          ]
        }
      ],
      "source": [
        "# make predictions\n",
        "prob_array = model.predict(x_test)\n",
        "class_indices = np.argmax(prob_array, axis=1)\n",
        "\n",
        "# convert the class indices to a one-hot encoded array\n",
        "class_indices = np.argmax(prob_array, axis=1)\n",
        "num_classes = 3\n",
        "y_pred = np.zeros((prob_array.shape[0], num_classes))\n",
        "y_pred[np.arange(prob_array.shape[0]), class_indices] = 1"
      ]
    },
    {
      "cell_type": "code",
      "execution_count": 47,
      "metadata": {
        "colab": {
          "base_uri": "https://localhost:8080/"
        },
        "id": "ypYlr3Swq9Rn",
        "outputId": "21cd6ed8-8778-4751-f9aa-3089fc633901"
      },
      "outputs": [
        {
          "name": "stdout",
          "output_type": "stream",
          "text": [
            "\n",
            "Accuracy: 0.58\n",
            "\n",
            "\n",
            "Classification Report - ears\n",
            "\n",
            "              precision    recall  f1-score   support\n",
            "\n",
            "     Score 0       0.61      0.61      0.61       628\n",
            "     Score 1       0.48      0.56      0.52       653\n",
            "     Score 2       0.71      0.57      0.63       600\n",
            "\n",
            "   micro avg       0.58      0.58      0.58      1881\n",
            "   macro avg       0.60      0.58      0.59      1881\n",
            "weighted avg       0.59      0.58      0.58      1881\n",
            " samples avg       0.58      0.58      0.58      1881\n",
            "\n"
          ]
        }
      ],
      "source": [
        "# make a classification report\n",
        "\n",
        "print('\\nAccuracy: {:.2f}\\n'.format(accuracy_score(y_test, y_pred)))\n",
        "print('\\nClassification Report - ears\\n')\n",
        "print(classification_report(y_test, y_pred, target_names=['Score 0', 'Score 1', 'Score 2']))"
      ]
    },
    {
      "cell_type": "code",
      "execution_count": 48,
      "metadata": {
        "colab": {
          "base_uri": "https://localhost:8080/",
          "height": 557
        },
        "id": "xbTmQZWerAa7",
        "outputId": "b3bde5a8-e5a6-42e3-bd43-b889081f32a0"
      },
      "outputs": [
        {
          "name": "stdout",
          "output_type": "stream",
          "text": [
            "Confusion Matrix\n",
            "\n",
            "[[381 203  44]\n",
            " [186 368  99]\n",
            " [ 58 198 344]]\n"
          ]
        },
        {
          "data": {
            "image/png": "[encoded data removed]",
            "text/plain": [
              "<Figure size 640x480 with 2 Axes>"
            ]
          },
          "metadata": {},
          "output_type": "display_data"
        }
      ],
      "source": [
        "# make a confusion matrix\n",
        "confusion = confusion_matrix(np.asarray(y_test).argmax(axis=1), np.asarray(y_pred).argmax(axis=1))\n",
        "print('Confusion Matrix\\n')\n",
        "print(confusion)\n",
        "\n",
        "lables = ['0','1','2']    \n",
        "ax= plt.subplot()\n",
        "sns.heatmap(confusion, annot=True, fmt='g', ax=ax);\n",
        "\n",
        "# labels, title and ticks\n",
        "ax.set_xlabel('Predicted labels');ax.set_ylabel('True labels'); \n",
        "ax.set_title('Confusion Matrix - ears'); \n",
        "ax.xaxis.set_ticklabels(lables); ax.yaxis.set_ticklabels(lables);\n",
        "plt.show()"
      ]
    }
  ],
  "metadata": {
    "accelerator": "GPU",
    "colab": {
      "provenance": []
    },
    "gpuClass": "premium",
    "kernelspec": {
      "display_name": "Python 3",
      "name": "python3"
    },
    "language_info": {
      "codemirror_mode": {
        "name": "ipython",
        "version": 3
      },
      "file_extension": ".py",
      "mimetype": "text/x-python",
      "name": "python",
      "nbconvert_exporter": "python",
      "pygments_lexer": "ipython3",
      "version": "3.10.0"
    }
  },
  "nbformat": 4,
  "nbformat_minor": 0
}
