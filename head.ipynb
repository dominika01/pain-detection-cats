{
  "cells": [
    {
      "cell_type": "code",
      "execution_count": 1,
      "metadata": {
        "id": "pORqWVNfpDXX"
      },
      "outputs": [],
      "source": [
        "import cv2\n",
        "import numpy as np\n",
        "import os\n",
        "import pandas as pd\n",
        "import tensorflow as tf\n",
        "from sklearn import model_selection\n",
        "from keras.callbacks import EarlyStopping\n",
        "import matplotlib.pyplot as plt\n",
        "import seaborn as sns\n",
        "from sklearn.metrics import confusion_matrix, accuracy_score, classification_report"
      ]
    },
    {
      "cell_type": "code",
      "execution_count": 2,
      "metadata": {
        "id": "jmKkoA9xpDaE"
      },
      "outputs": [],
      "source": [
        "# global variables\n",
        "\n",
        "INPUT_SHAPE_X = 256\n",
        "INPUT_SHAPE_Y = 256\n",
        "ITERATION = '1'\n",
        "EPOCHS = 1000\n",
        "BATCH_SIZE = 8\n",
        "\n",
        "max_images = 1830 # max images per class"
      ]
    },
    {
      "cell_type": "code",
      "execution_count": 8,
      "metadata": {
        "id": "A7Ih3AUlpSr1"
      },
      "outputs": [],
      "source": [
        "# load labels\n",
        "csv_path = 'data-labels/labels_preprocessed.csv'\n",
        "labels = pd.read_csv(csv_path)\n",
        "# replace NaN values with 0s\n",
        "labels.fillna(0, inplace=True)"
      ]
    },
    {
      "cell_type": "code",
      "execution_count": 10,
      "metadata": {
        "id": "LYMx2EFXpp4s"
      },
      "outputs": [
        {
          "name": "stdout",
          "output_type": "stream",
          "text": [
            "issue with data-pain/catpainface_labels.csv\n"
          ]
        }
      ],
      "source": [
        "# load the images\n",
        "head_path = 'data-pain'\n",
        "head_dir = os.listdir(head_path)\n",
        "x_head = []\n",
        "y_head = []\n",
        "i = 0\n",
        "class_0 = 0\n",
        "class_1 = 0\n",
        "class_2 = 0\n",
        "\n",
        "# iterate over images\n",
        "for image in head_dir:\n",
        "    # load the image\n",
        "    image_path = os.path.join(head_path, image)\n",
        "    try:\n",
        "        img = tf.keras.preprocessing.image.load_img(image_path, target_size=(INPUT_SHAPE_X, INPUT_SHAPE_Y))\n",
        "        img = tf.keras.preprocessing.image.img_to_array(img)\n",
        "        \n",
        "        # preprocess the image\n",
        "        if (img is not None):\n",
        "        \n",
        "            # check image class\n",
        "            image_class = labels.loc[labels['imageid'] == image, 'head_position']\n",
        "\n",
        "            if not image_class.empty:\n",
        "                image_class = image_class.iloc[0]    \n",
        "                \n",
        "                # append an equal number of images from each class\n",
        "                if (image_class == 0.0 and class_0 < max_images):\n",
        "                    x_head.append(img)\n",
        "                    y_head.append(image_class)\n",
        "                    class_0 += 1\n",
        "                    if (i == max_images*3):\n",
        "                        break\n",
        "                    i+=1\n",
        "                    \n",
        "                    \n",
        "                elif (image_class == 1.0 and class_1 < max_images):\n",
        "                    x_head.append(img)\n",
        "                    y_head.append(image_class)\n",
        "                    class_1 += 1\n",
        "                    if (i == max_images*3):\n",
        "                        break\n",
        "                    i+=1\n",
        "                    \n",
        "                    \n",
        "                elif (image_class == 2.0 and class_2 < max_images):\n",
        "                    x_head.append(img)\n",
        "                    y_head.append(image_class)\n",
        "                    class_2 += 1\n",
        "                    if (i == max_images*3):\n",
        "                        break\n",
        "                    i+=1\n",
        "    except:\n",
        "        print(\"issue with\", image_path)\n"
      ]
    },
    {
      "cell_type": "code",
      "execution_count": 11,
      "metadata": {
        "id": "fR1mEp1kZnBo"
      },
      "outputs": [],
      "source": [
        "# add flipped images from class 2\n",
        "flipped_path = 'data/head-flipped'\n",
        "for image in os.listdir(flipped_path):\n",
        "    image_path = os.path.join(flipped_path, image)\n",
        "    img = tf.keras.preprocessing.image.load_img(image_path, target_size=(INPUT_SHAPE_X, INPUT_SHAPE_Y))\n",
        "    img = tf.keras.preprocessing.image.img_to_array(img)\n",
        "    x_head.append(img)\n",
        "    y_head.append(2)\n",
        "    class_2 += 1"
      ]
    },
    {
      "cell_type": "code",
      "execution_count": 12,
      "metadata": {
        "id": "t7yZtk90ZvYV"
      },
      "outputs": [],
      "source": [
        "# add augmented images from class 2\n",
        "aug_path = 'data/head-augmented'\n",
        "for image in os.listdir(aug_path):\n",
        "    image_path = os.path.join(aug_path, image)\n",
        "    img = tf.keras.preprocessing.image.load_img(image_path, target_size=(INPUT_SHAPE_X, INPUT_SHAPE_Y))\n",
        "    img = tf.keras.preprocessing.image.img_to_array(img)\n",
        "    x_head.append(img)\n",
        "    y_head.append(2)\n",
        "    class_2 += 1"
      ]
    },
    {
      "cell_type": "code",
      "execution_count": 13,
      "metadata": {
        "colab": {
          "base_uri": "https://localhost:8080/"
        },
        "id": "-Z1bHTP0aHm1",
        "outputId": "6cf93e48-94fc-4471-d7c3-a2cded0f0bc5"
      },
      "outputs": [
        {
          "name": "stdout",
          "output_type": "stream",
          "text": [
            "1830 1774 1830\n"
          ]
        }
      ],
      "source": [
        "print(class_0, class_1, class_2)"
      ]
    },
    {
      "cell_type": "code",
      "execution_count": 14,
      "metadata": {
        "id": "lpC6P1xspxid"
      },
      "outputs": [
        {
          "name": "stdout",
          "output_type": "stream",
          "text": [
            "Metal device set to: Apple M1\n",
            "\n",
            "systemMemory: 16.00 GB\n",
            "maxCacheSize: 5.33 GB\n",
            "\n"
          ]
        },
        {
          "name": "stderr",
          "output_type": "stream",
          "text": [
            "2023-04-12 14:20:44.797916: I tensorflow/core/common_runtime/pluggable_device/pluggable_device_factory.cc:305] Could not identify NUMA node of platform GPU ID 0, defaulting to 0. Your kernel may not have been built with NUMA support.\n",
            "2023-04-12 14:20:44.798501: I tensorflow/core/common_runtime/pluggable_device/pluggable_device_factory.cc:271] Created TensorFlow device (/job:localhost/replica:0/task:0/device:GPU:0 with 0 MB memory) -> physical PluggableDevice (device: 0, name: METAL, pci bus id: <undefined>)\n"
          ]
        }
      ],
      "source": [
        "# preprocess\n",
        "x_head = tf.keras.applications.vgg16.preprocess_input(np.array(x_head))\n",
        "\n",
        "# split the dataset into train and test sets\n",
        "x_train_val, x_test, y_train_val, y_test = model_selection.train_test_split(\n",
        "    x_head, y_head, test_size=0.2, random_state=42)\n",
        "\n",
        "# split the train and validation sets\n",
        "x_train, x_val, y_train, y_val = model_selection.train_test_split(\n",
        "    x_train_val, y_train_val, test_size=0.2, random_state=42)\n",
        "\n",
        "# one-hot code labels\n",
        "y_train = tf.cast(y_train,dtype=tf.int32)\n",
        "y_val = tf.cast(y_val,dtype=tf.int32)\n",
        "y_test = tf.cast(y_test,dtype=tf.int32)\n",
        "\n",
        "y_train = tf.one_hot(y_train,3)\n",
        "y_val = tf.one_hot(y_val,3)\n",
        "y_test = tf.one_hot(y_test,3)"
      ]
    },
    {
      "cell_type": "code",
      "execution_count": 15,
      "metadata": {
        "id": "2PERmuI_qBCe"
      },
      "outputs": [],
      "source": [
        "# create the model\n",
        "model = tf.keras.models.Sequential()\n",
        "model.add(tf.keras.applications.vgg16.VGG16(weights='weights/vgg16_weights_tf_dim_ordering_tf_kernels_notop.h5', \n",
        "                                            include_top=False,\n",
        "                                            input_shape=(INPUT_SHAPE_X, INPUT_SHAPE_Y, 3)))\n",
        "model.add(tf.keras.layers.Flatten(input_shape=model.output_shape[1:]))\n",
        "model.add(tf.keras.layers.Dense(256, activation=tf.nn.leaky_relu))\n",
        "model.add(tf.keras.layers.Dropout(0.2))\n",
        "model.add(tf.keras.layers.Dense(256, activation=tf.nn.leaky_relu))\n",
        "model.add(tf.keras.layers.Dropout(0.2))\n",
        "model.add(tf.keras.layers.Dense(128, activation=tf.nn.leaky_relu))\n",
        "model.add(tf.keras.layers.Dense(3, activation='softmax'))"
      ]
    },
    {
      "cell_type": "code",
      "execution_count": 16,
      "metadata": {
        "id": "AbkIzniwqF8-"
      },
      "outputs": [],
      "source": [
        "# compile the model\n",
        "earlystop = EarlyStopping(monitor='val_loss', patience=5)\n",
        "model.compile(optimizer=tf.keras.optimizers.SGD(learning_rate=1e-3), \n",
        "              loss='categorical_crossentropy', \n",
        "              metrics=['accuracy'])"
      ]
    },
    {
      "cell_type": "code",
      "execution_count": 17,
      "metadata": {
        "colab": {
          "base_uri": "https://localhost:8080/"
        },
        "id": "C2SQPbZ85CN8",
        "outputId": "79a6c94a-be4b-4334-e5f1-b1aa2a8f736d"
      },
      "outputs": [
        {
          "name": "stdout",
          "output_type": "stream",
          "text": [
            "Model: \"sequential\"\n",
            "_________________________________________________________________\n",
            " Layer (type)                Output Shape              Param #   \n",
            "=================================================================\n",
            " vgg16 (Functional)          (None, 8, 8, 512)         14714688  \n",
            "                                                                 \n",
            " flatten (Flatten)           (None, 32768)             0         \n",
            "                                                                 \n",
            " dense (Dense)               (None, 256)               8388864   \n",
            "                                                                 \n",
            " dropout (Dropout)           (None, 256)               0         \n",
            "                                                                 \n",
            " dense_1 (Dense)             (None, 256)               65792     \n",
            "                                                                 \n",
            " dropout_1 (Dropout)         (None, 256)               0         \n",
            "                                                                 \n",
            " dense_2 (Dense)             (None, 128)               32896     \n",
            "                                                                 \n",
            " dense_3 (Dense)             (None, 3)                 387       \n",
            "                                                                 \n",
            "=================================================================\n",
            "Total params: 23,202,627\n",
            "Trainable params: 23,202,627\n",
            "Non-trainable params: 0\n",
            "_________________________________________________________________\n"
          ]
        }
      ],
      "source": [
        "model.summary()"
      ]
    },
    {
      "cell_type": "code",
      "execution_count": 18,
      "metadata": {
        "colab": {
          "base_uri": "https://localhost:8080/"
        },
        "id": "nAJFsk5hqF_E",
        "outputId": "4e4f12e2-b10b-4337-de10-bd3566dc8833"
      },
      "outputs": [
        {
          "name": "stderr",
          "output_type": "stream",
          "text": [
            "2023-04-12 14:22:07.465550: W tensorflow/core/platform/profile_utils/cpu_utils.cc:128] Failed to get CPU frequency: 0 Hz\n"
          ]
        },
        {
          "name": "stdout",
          "output_type": "stream",
          "text": [
            "Epoch 1/1000\n"
          ]
        },
        {
          "name": "stderr",
          "output_type": "stream",
          "text": [
            "2023-04-12 14:22:08.300061: I tensorflow/core/grappler/optimizers/custom_graph_optimizer_registry.cc:113] Plugin optimizer for device_type GPU is enabled.\n"
          ]
        },
        {
          "name": "stdout",
          "output_type": "stream",
          "text": [
            "435/435 [==============================] - ETA: 0s - loss: 1.1342 - accuracy: 0.3989"
          ]
        },
        {
          "name": "stderr",
          "output_type": "stream",
          "text": [
            "2023-04-12 14:27:10.231604: I tensorflow/core/grappler/optimizers/custom_graph_optimizer_registry.cc:113] Plugin optimizer for device_type GPU is enabled.\n"
          ]
        },
        {
          "name": "stdout",
          "output_type": "stream",
          "text": [
            "435/435 [==============================] - 325s 742ms/step - loss: 1.1342 - accuracy: 0.3989 - val_loss: 1.0229 - val_accuracy: 0.4310\n",
            "Epoch 2/1000\n",
            "435/435 [==============================] - 338s 778ms/step - loss: 0.9902 - accuracy: 0.4596 - val_loss: 0.9804 - val_accuracy: 0.4747\n",
            "Epoch 3/1000\n",
            "435/435 [==============================] - 415s 954ms/step - loss: 0.9474 - accuracy: 0.4958 - val_loss: 0.9093 - val_accuracy: 0.5195\n",
            "Epoch 4/1000\n",
            "435/435 [==============================] - 397s 912ms/step - loss: 0.8545 - accuracy: 0.5735 - val_loss: 0.9182 - val_accuracy: 0.5345\n",
            "Epoch 5/1000\n",
            "435/435 [==============================] - 1994s 5s/step - loss: 0.7798 - accuracy: 0.6212 - val_loss: 0.8919 - val_accuracy: 0.5667\n",
            "Epoch 6/1000\n",
            "435/435 [==============================] - 444s 1s/step - loss: 0.6655 - accuracy: 0.7015 - val_loss: 1.0986 - val_accuracy: 0.5057\n",
            "Epoch 7/1000\n",
            "435/435 [==============================] - 339s 780ms/step - loss: 0.5587 - accuracy: 0.7581 - val_loss: 1.0780 - val_accuracy: 0.5368\n",
            "Epoch 8/1000\n",
            "435/435 [==============================] - 379s 871ms/step - loss: 0.4714 - accuracy: 0.8090 - val_loss: 1.1074 - val_accuracy: 0.5126\n",
            "Epoch 9/1000\n",
            "435/435 [==============================] - 385s 886ms/step - loss: 0.3767 - accuracy: 0.8548 - val_loss: 1.1218 - val_accuracy: 0.5598\n",
            "Epoch 10/1000\n",
            "435/435 [==============================] - 406s 933ms/step - loss: 0.2291 - accuracy: 0.9186 - val_loss: 1.3209 - val_accuracy: 0.5908\n"
          ]
        }
      ],
      "source": [
        "# train the model\n",
        "hist = model.fit(x_train, y_train, \n",
        "              epochs=EPOCHS,\n",
        "              batch_size=BATCH_SIZE, \n",
        "              validation_data=(x_val, y_val),\n",
        "              callbacks=[earlystop])"
      ]
    },
    {
      "cell_type": "code",
      "execution_count": 24,
      "metadata": {
        "colab": {
          "base_uri": "https://localhost:8080/"
        },
        "id": "DZxKC7fXqVMz",
        "outputId": "2a6c3f3b-1ec3-4ab4-88d8-606dbcab7d37"
      },
      "outputs": [
        {
          "name": "stderr",
          "output_type": "stream",
          "text": [
            "WARNING:absl:Found untraced functions such as _jit_compiled_convolution_op, _jit_compiled_convolution_op, _jit_compiled_convolution_op, _jit_compiled_convolution_op, _jit_compiled_convolution_op while saving (showing 5 of 13). These functions will not be directly callable after loading.\n"
          ]
        },
        {
          "name": "stdout",
          "output_type": "stream",
          "text": [
            "INFO:tensorflow:Assets written to: model-head/assets\n"
          ]
        },
        {
          "name": "stderr",
          "output_type": "stream",
          "text": [
            "INFO:tensorflow:Assets written to: model-head/assets\n"
          ]
        }
      ],
      "source": [
        "# save the model and training history\n",
        "path = 'model-head'\n",
        "model.save(path)\n",
        "\n",
        "history_df = pd.DataFrame(hist.history)\n",
        "path = 'history-head.csv'\n",
        "history_df.to_csv(path, index=False)"
      ]
    },
    {
      "cell_type": "code",
      "execution_count": 19,
      "metadata": {
        "colab": {
          "base_uri": "https://localhost:8080/"
        },
        "id": "wR_v3x2dqGBW",
        "outputId": "344fa82c-2727-4b34-d22f-38c341ad2aa3"
      },
      "outputs": [
        {
          "name": "stdout",
          "output_type": "stream",
          "text": [
            "34/34 [==============================] - 31s 903ms/step - loss: 1.3446 - accuracy: 0.5860\n",
            "[1.3445630073547363, 0.5860165953636169]\n"
          ]
        }
      ],
      "source": [
        "# evaluate the model\n",
        "results = model.evaluate(x_test, y_test)\n",
        "print(results)"
      ]
    },
    {
      "cell_type": "code",
      "execution_count": 21,
      "metadata": {
        "colab": {
          "base_uri": "https://localhost:8080/"
        },
        "id": "X8VgBTyDqOAH",
        "outputId": "84aaa471-3cbe-4483-c01e-4c66a16986bf"
      },
      "outputs": [
        {
          "name": "stderr",
          "output_type": "stream",
          "text": [
            "2023-04-12 15:56:00.578873: I tensorflow/core/grappler/optimizers/custom_graph_optimizer_registry.cc:113] Plugin optimizer for device_type GPU is enabled.\n"
          ]
        },
        {
          "name": "stdout",
          "output_type": "stream",
          "text": [
            "34/34 [==============================] - 26s 787ms/step\n"
          ]
        }
      ],
      "source": [
        "# make predictions\n",
        "prob_array = model.predict(x_test)\n",
        "class_indices = np.argmax(prob_array, axis=1)\n",
        "\n",
        "# convert the class indices to a one-hot encoded array\n",
        "class_indices = np.argmax(prob_array, axis=1)\n",
        "num_classes = 3\n",
        "y_pred = np.zeros((prob_array.shape[0], num_classes))\n",
        "y_pred[np.arange(prob_array.shape[0]), class_indices] = 1"
      ]
    },
    {
      "cell_type": "code",
      "execution_count": 22,
      "metadata": {
        "colab": {
          "base_uri": "https://localhost:8080/"
        },
        "id": "ypYlr3Swq9Rn",
        "outputId": "21cd6ed8-8778-4751-f9aa-3089fc633901"
      },
      "outputs": [
        {
          "name": "stdout",
          "output_type": "stream",
          "text": [
            "\n",
            "Accuracy: 0.59\n",
            "\n",
            "\n",
            "Classification Report - ears\n",
            "\n",
            "              precision    recall  f1-score   support\n",
            "\n",
            "     Score 0       0.60      0.59      0.59       369\n",
            "     Score 1       0.45      0.57      0.50       346\n",
            "     Score 2       0.76      0.60      0.67       372\n",
            "\n",
            "   micro avg       0.59      0.59      0.59      1087\n",
            "   macro avg       0.61      0.59      0.59      1087\n",
            "weighted avg       0.61      0.59      0.59      1087\n",
            " samples avg       0.59      0.59      0.59      1087\n",
            "\n"
          ]
        }
      ],
      "source": [
        "# make a classification report\n",
        "\n",
        "print('\\nAccuracy: {:.2f}\\n'.format(accuracy_score(y_test, y_pred)))\n",
        "print('\\nClassification Report - head\\n')\n",
        "print(classification_report(y_test, y_pred, target_names=['Score 0', 'Score 1', 'Score 2']))"
      ]
    },
    {
      "cell_type": "code",
      "execution_count": 23,
      "metadata": {
        "colab": {
          "base_uri": "https://localhost:8080/",
          "height": 557
        },
        "id": "xbTmQZWerAa7",
        "outputId": "b3bde5a8-e5a6-42e3-bd43-b889081f32a0"
      },
      "outputs": [
        {
          "name": "stdout",
          "output_type": "stream",
          "text": [
            "Confusion Matrix\n",
            "\n",
            "[[217 132  20]\n",
            " [100 196  50]\n",
            " [ 45 103 224]]\n"
          ]
        },
        {
          "data": {
            "image/png": "[encoded data removed]",
            "text/plain": [
              "<Figure size 640x480 with 2 Axes>"
            ]
          },
          "metadata": {},
          "output_type": "display_data"
        }
      ],
      "source": [
        "# make a confusion matrix\n",
        "confusion = confusion_matrix(np.asarray(y_test).argmax(axis=1), np.asarray(y_pred).argmax(axis=1))\n",
        "print('Confusion Matrix\\n')\n",
        "print(confusion)\n",
        "\n",
        "lables = ['0','1','2']    \n",
        "ax= plt.subplot()\n",
        "sns.heatmap(confusion, annot=True, fmt='g', ax=ax);\n",
        "\n",
        "# labels, title and ticks\n",
        "ax.set_xlabel('Predicted labels');ax.set_ylabel('True labels'); \n",
        "ax.set_title('Confusion Matrix - head'); \n",
        "ax.xaxis.set_ticklabels(lables); ax.yaxis.set_ticklabels(lables);\n",
        "plt.show()"
      ]
    }
  ],
  "metadata": {
    "accelerator": "GPU",
    "colab": {
      "provenance": []
    },
    "gpuClass": "premium",
    "kernelspec": {
      "display_name": "Python 3",
      "name": "python3"
    },
    "language_info": {
      "codemirror_mode": {
        "name": "ipython",
        "version": 3
      },
      "file_extension": ".py",
      "mimetype": "text/x-python",
      "name": "python",
      "nbconvert_exporter": "python",
      "pygments_lexer": "ipython3",
      "version": "3.10.0"
    }
  },
  "nbformat": 4,
  "nbformat_minor": 0
}
